{
 "cells": [
  {
   "cell_type": "markdown",
   "metadata": {},
   "source": [
    "# Project Description\n",
    "\n",
    "**Purpose** <br>\n",
    "This project consists of analyzing several datasets to help in the research efforts of a new Chicago ride share company. The analysis will provide insights on trends in taxi service including popular service providers and neighborhoods. \n",
    "\n",
    "**Datasets** <br>\n",
    "The datasets used are from data extracted from a website with weather condition information as well as SQL database queriers. \n",
    "\n",
    "The first dataset includes taxi companies names and the number of rides they completed on November 15-16, 2017. The secodn dataset used contains drop-off locations in Chicago neighborhoods where rides ended and the average number of rides that ended in each neighborhood in November 2017.\n",
    "\n",
    "**Analysis** <br>\n",
    "The analysis involves creating simple visualizations to identify the most frequently used Taxi services in Chicago and the top 10 neighborhoods in terms of drop-offs. These visualizations will compare different taxi service providers using bar charts. \n",
    "\n",
    "The final part of this project includes hypothesis testing using the data from result_07.\n",
    "This dataset includes information about rides from the Loop to O'Hare International Airport, including pickup date and time, weather conditions at the time of pickup, and ride duration in seconds. \n",
    "\n",
    "The hypothesis to be tested is: \"The average duration of rides from the Loop to O'Hare International Airport changes on rainy Saturdays.\"\n",
    "\n",
    "Conducting this test will determine whether there is a significant difference between average ride times to the Airport on Saturdays depending on the weather condition. This may be helpful for planning the amount of rides or drivers set out on Saturdays by the taxi service in order to provide the best service and expectation\n",
    "\n",
    "# Step 4: Exploratory Data Analysis"
   ]
  },
  {
   "cell_type": "markdown",
   "metadata": {},
   "source": [
    "## Import Data "
   ]
  },
  {
   "cell_type": "code",
   "execution_count": 1,
   "metadata": {},
   "outputs": [],
   "source": [
    "import pandas as pd\n",
    "import matplotlib.pyplot as plt\n",
    "import plotly.express as px\n",
    "from scipy import stats"
   ]
  },
  {
   "cell_type": "markdown",
   "metadata": {},
   "source": [
    "## Read Data"
   ]
  },
  {
   "cell_type": "code",
   "execution_count": 2,
   "metadata": {},
   "outputs": [],
   "source": [
    "# Read the CSV files \n",
    "company_trips = pd.read_csv('moved_project_sql_result_01.csv')\n",
    "average_trip_location = pd.read_csv('moved_project_sql_result_04.csv')\n"
   ]
  },
  {
   "cell_type": "code",
   "execution_count": 3,
   "metadata": {},
   "outputs": [
    {
     "data": {
      "text/html": [
       "<div>\n",
       "<style scoped>\n",
       "    .dataframe tbody tr th:only-of-type {\n",
       "        vertical-align: middle;\n",
       "    }\n",
       "\n",
       "    .dataframe tbody tr th {\n",
       "        vertical-align: top;\n",
       "    }\n",
       "\n",
       "    .dataframe thead th {\n",
       "        text-align: right;\n",
       "    }\n",
       "</style>\n",
       "<table border=\"1\" class=\"dataframe\">\n",
       "  <thead>\n",
       "    <tr style=\"text-align: right;\">\n",
       "      <th></th>\n",
       "      <th>company_name</th>\n",
       "      <th>trips_amount</th>\n",
       "    </tr>\n",
       "  </thead>\n",
       "  <tbody>\n",
       "    <tr>\n",
       "      <th>17</th>\n",
       "      <td>Chicago Medallion Management</td>\n",
       "      <td>1955</td>\n",
       "    </tr>\n",
       "    <tr>\n",
       "      <th>14</th>\n",
       "      <td>Patriot Taxi Dba Peace Taxi Associat</td>\n",
       "      <td>2235</td>\n",
       "    </tr>\n",
       "    <tr>\n",
       "      <th>42</th>\n",
       "      <td>1085 - 72312 N and W Cab Co</td>\n",
       "      <td>29</td>\n",
       "    </tr>\n",
       "    <tr>\n",
       "      <th>43</th>\n",
       "      <td>2809 - 95474 C &amp; D Cab Co Inc.</td>\n",
       "      <td>29</td>\n",
       "    </tr>\n",
       "    <tr>\n",
       "      <th>52</th>\n",
       "      <td>3721 - Santamaria Express, Alvaro Santamaria</td>\n",
       "      <td>14</td>\n",
       "    </tr>\n",
       "    <tr>\n",
       "      <th>57</th>\n",
       "      <td>Metro Group</td>\n",
       "      <td>11</td>\n",
       "    </tr>\n",
       "    <tr>\n",
       "      <th>6</th>\n",
       "      <td>City Service</td>\n",
       "      <td>8448</td>\n",
       "    </tr>\n",
       "    <tr>\n",
       "      <th>41</th>\n",
       "      <td>Chicago Star Taxicab</td>\n",
       "      <td>29</td>\n",
       "    </tr>\n",
       "    <tr>\n",
       "      <th>11</th>\n",
       "      <td>Globe Taxi</td>\n",
       "      <td>4383</td>\n",
       "    </tr>\n",
       "    <tr>\n",
       "      <th>50</th>\n",
       "      <td>2823 - 73307 Lee Express Inc</td>\n",
       "      <td>15</td>\n",
       "    </tr>\n",
       "  </tbody>\n",
       "</table>\n",
       "</div>"
      ],
      "text/plain": [
       "                                    company_name  trips_amount\n",
       "17                  Chicago Medallion Management          1955\n",
       "14          Patriot Taxi Dba Peace Taxi Associat          2235\n",
       "42                   1085 - 72312 N and W Cab Co            29\n",
       "43                2809 - 95474 C & D Cab Co Inc.            29\n",
       "52  3721 - Santamaria Express, Alvaro Santamaria            14\n",
       "57                                   Metro Group            11\n",
       "6                                   City Service          8448\n",
       "41                          Chicago Star Taxicab            29\n",
       "11                                    Globe Taxi          4383\n",
       "50                  2823 - 73307 Lee Express Inc            15"
      ]
     },
     "execution_count": 3,
     "metadata": {},
     "output_type": "execute_result"
    }
   ],
   "source": [
    "#Viewing 10 representative rows of data \n",
    "company_trips.sample(10)\n"
   ]
  },
  {
   "cell_type": "markdown",
   "metadata": {},
   "source": [
    "Data types appear correct but some entries seem to have numeric values at the beginning, such as \"1085 - 72312 N and W Cab Co\". This could be an id from a different table that was mergered incorrectly but it is useless as is, so we will just delete these values from all company_name values. "
   ]
  },
  {
   "cell_type": "code",
   "execution_count": 4,
   "metadata": {},
   "outputs": [
    {
     "data": {
      "text/plain": [
       "29                         303 Taxi\n",
       "60          2733 - 74600 Benny Jona\n",
       "63      3556 - 36214 RC Andrews Cab\n",
       "33                 Metro Jet Taxi A\n",
       "3                        Yellow Cab\n",
       "39      0118 - 42111 Godfrey S.Awir\n",
       "8         Star North Management LLC\n",
       "28                      5 Star Taxi\n",
       "47    4615 - 83503 Tyrone Henderson\n",
       "6                      City Service\n",
       "Name: company_name, dtype: object"
      ]
     },
     "execution_count": 4,
     "metadata": {},
     "output_type": "execute_result"
    }
   ],
   "source": [
    "# Using regular expression to remove numeric values from company names for clarity\n",
    "company_trips['company_name'] = company_trips['company_name'].str.replace(r'^\\d+\\s*-\\s*|\\d+\\s*', '')\n",
    "company_trips['company_name'].sample(10)"
   ]
  },
  {
   "cell_type": "code",
   "execution_count": 5,
   "metadata": {
    "scrolled": true
   },
   "outputs": [
    {
     "data": {
      "text/html": [
       "<div>\n",
       "<style scoped>\n",
       "    .dataframe tbody tr th:only-of-type {\n",
       "        vertical-align: middle;\n",
       "    }\n",
       "\n",
       "    .dataframe tbody tr th {\n",
       "        vertical-align: top;\n",
       "    }\n",
       "\n",
       "    .dataframe thead th {\n",
       "        text-align: right;\n",
       "    }\n",
       "</style>\n",
       "<table border=\"1\" class=\"dataframe\">\n",
       "  <thead>\n",
       "    <tr style=\"text-align: right;\">\n",
       "      <th></th>\n",
       "      <th>dropoff_location_name</th>\n",
       "      <th>average_trips</th>\n",
       "    </tr>\n",
       "  </thead>\n",
       "  <tbody>\n",
       "    <tr>\n",
       "      <th>83</th>\n",
       "      <td>Avalon Park</td>\n",
       "      <td>6.966667</td>\n",
       "    </tr>\n",
       "    <tr>\n",
       "      <th>58</th>\n",
       "      <td>Englewood</td>\n",
       "      <td>25.433333</td>\n",
       "    </tr>\n",
       "    <tr>\n",
       "      <th>39</th>\n",
       "      <td>Jefferson Park</td>\n",
       "      <td>74.333333</td>\n",
       "    </tr>\n",
       "    <tr>\n",
       "      <th>91</th>\n",
       "      <td>Burnside</td>\n",
       "      <td>2.333333</td>\n",
       "    </tr>\n",
       "    <tr>\n",
       "      <th>54</th>\n",
       "      <td>North Lawndale</td>\n",
       "      <td>32.166667</td>\n",
       "    </tr>\n",
       "    <tr>\n",
       "      <th>27</th>\n",
       "      <td>Avondale</td>\n",
       "      <td>208.233333</td>\n",
       "    </tr>\n",
       "    <tr>\n",
       "      <th>67</th>\n",
       "      <td>Auburn Gresham</td>\n",
       "      <td>15.166667</td>\n",
       "    </tr>\n",
       "    <tr>\n",
       "      <th>11</th>\n",
       "      <td>East Village</td>\n",
       "      <td>1212.066667</td>\n",
       "    </tr>\n",
       "    <tr>\n",
       "      <th>82</th>\n",
       "      <td>South Deering</td>\n",
       "      <td>7.500000</td>\n",
       "    </tr>\n",
       "    <tr>\n",
       "      <th>10</th>\n",
       "      <td>Lincoln Park</td>\n",
       "      <td>1246.533333</td>\n",
       "    </tr>\n",
       "  </tbody>\n",
       "</table>\n",
       "</div>"
      ],
      "text/plain": [
       "   dropoff_location_name  average_trips\n",
       "83           Avalon Park       6.966667\n",
       "58             Englewood      25.433333\n",
       "39        Jefferson Park      74.333333\n",
       "91              Burnside       2.333333\n",
       "54        North Lawndale      32.166667\n",
       "27              Avondale     208.233333\n",
       "67        Auburn Gresham      15.166667\n",
       "11          East Village    1212.066667\n",
       "82         South Deering       7.500000\n",
       "10          Lincoln Park    1246.533333"
      ]
     },
     "execution_count": 5,
     "metadata": {},
     "output_type": "execute_result"
    }
   ],
   "source": [
    "#Viewing 10 representative rows of data \n",
    "average_trip_location.sample(10)\n"
   ]
  },
  {
   "cell_type": "markdown",
   "metadata": {},
   "source": [
    "## Ensure Correct Data Types "
   ]
  },
  {
   "cell_type": "code",
   "execution_count": 6,
   "metadata": {
    "scrolled": true
   },
   "outputs": [
    {
     "name": "stdout",
     "output_type": "stream",
     "text": [
      "<class 'pandas.core.frame.DataFrame'>\n",
      "RangeIndex: 64 entries, 0 to 63\n",
      "Data columns (total 2 columns):\n",
      " #   Column        Non-Null Count  Dtype \n",
      "---  ------        --------------  ----- \n",
      " 0   company_name  64 non-null     object\n",
      " 1   trips_amount  64 non-null     int64 \n",
      "dtypes: int64(1), object(1)\n",
      "memory usage: 1.1+ KB\n"
     ]
    }
   ],
   "source": [
    "# Viewing basic data information \n",
    "company_trips.info()\n"
   ]
  },
  {
   "cell_type": "markdown",
   "metadata": {},
   "source": [
    "Data types appear correct but further investigation is necessary to ensure there are no abnmormalities."
   ]
  },
  {
   "cell_type": "code",
   "execution_count": 7,
   "metadata": {},
   "outputs": [
    {
     "name": "stdout",
     "output_type": "stream",
     "text": [
      "<class 'pandas.core.frame.DataFrame'>\n",
      "RangeIndex: 94 entries, 0 to 93\n",
      "Data columns (total 2 columns):\n",
      " #   Column                 Non-Null Count  Dtype  \n",
      "---  ------                 --------------  -----  \n",
      " 0   dropoff_location_name  94 non-null     object \n",
      " 1   average_trips          94 non-null     float64\n",
      "dtypes: float64(1), object(1)\n",
      "memory usage: 1.6+ KB\n"
     ]
    }
   ],
   "source": [
    "# Viewing basic data information \n",
    "average_trip_location.info()"
   ]
  },
  {
   "cell_type": "markdown",
   "metadata": {},
   "source": [
    "Data types appear correct but further investigation is necessary to ensure there are no abnmormalities."
   ]
  },
  {
   "cell_type": "code",
   "execution_count": 8,
   "metadata": {},
   "outputs": [
    {
     "data": {
      "text/html": [
       "<div>\n",
       "<style scoped>\n",
       "    .dataframe tbody tr th:only-of-type {\n",
       "        vertical-align: middle;\n",
       "    }\n",
       "\n",
       "    .dataframe tbody tr th {\n",
       "        vertical-align: top;\n",
       "    }\n",
       "\n",
       "    .dataframe thead th {\n",
       "        text-align: right;\n",
       "    }\n",
       "</style>\n",
       "<table border=\"1\" class=\"dataframe\">\n",
       "  <thead>\n",
       "    <tr style=\"text-align: right;\">\n",
       "      <th></th>\n",
       "      <th>trips_amount</th>\n",
       "    </tr>\n",
       "  </thead>\n",
       "  <tbody>\n",
       "    <tr>\n",
       "      <th>count</th>\n",
       "      <td>64.000000</td>\n",
       "    </tr>\n",
       "    <tr>\n",
       "      <th>mean</th>\n",
       "      <td>2145.484375</td>\n",
       "    </tr>\n",
       "    <tr>\n",
       "      <th>std</th>\n",
       "      <td>3812.310186</td>\n",
       "    </tr>\n",
       "    <tr>\n",
       "      <th>min</th>\n",
       "      <td>2.000000</td>\n",
       "    </tr>\n",
       "    <tr>\n",
       "      <th>25%</th>\n",
       "      <td>20.750000</td>\n",
       "    </tr>\n",
       "    <tr>\n",
       "      <th>50%</th>\n",
       "      <td>178.500000</td>\n",
       "    </tr>\n",
       "    <tr>\n",
       "      <th>75%</th>\n",
       "      <td>2106.500000</td>\n",
       "    </tr>\n",
       "    <tr>\n",
       "      <th>max</th>\n",
       "      <td>19558.000000</td>\n",
       "    </tr>\n",
       "  </tbody>\n",
       "</table>\n",
       "</div>"
      ],
      "text/plain": [
       "       trips_amount\n",
       "count     64.000000\n",
       "mean    2145.484375\n",
       "std     3812.310186\n",
       "min        2.000000\n",
       "25%       20.750000\n",
       "50%      178.500000\n",
       "75%     2106.500000\n",
       "max    19558.000000"
      ]
     },
     "execution_count": 8,
     "metadata": {},
     "output_type": "execute_result"
    }
   ],
   "source": [
    "company_trips.describe()\n"
   ]
  },
  {
   "cell_type": "markdown",
   "metadata": {},
   "source": [
    "All values seem normal, showing the taxi companies with the least amount of trips completed at the min() value of 2 trips and the company with the most at the max() value of 19,558 trips completed. "
   ]
  },
  {
   "cell_type": "code",
   "execution_count": 9,
   "metadata": {},
   "outputs": [
    {
     "data": {
      "text/html": [
       "<div>\n",
       "<style scoped>\n",
       "    .dataframe tbody tr th:only-of-type {\n",
       "        vertical-align: middle;\n",
       "    }\n",
       "\n",
       "    .dataframe tbody tr th {\n",
       "        vertical-align: top;\n",
       "    }\n",
       "\n",
       "    .dataframe thead th {\n",
       "        text-align: right;\n",
       "    }\n",
       "</style>\n",
       "<table border=\"1\" class=\"dataframe\">\n",
       "  <thead>\n",
       "    <tr style=\"text-align: right;\">\n",
       "      <th></th>\n",
       "      <th>average_trips</th>\n",
       "    </tr>\n",
       "  </thead>\n",
       "  <tbody>\n",
       "    <tr>\n",
       "      <th>count</th>\n",
       "      <td>94.000000</td>\n",
       "    </tr>\n",
       "    <tr>\n",
       "      <th>mean</th>\n",
       "      <td>599.953728</td>\n",
       "    </tr>\n",
       "    <tr>\n",
       "      <th>std</th>\n",
       "      <td>1714.591098</td>\n",
       "    </tr>\n",
       "    <tr>\n",
       "      <th>min</th>\n",
       "      <td>1.800000</td>\n",
       "    </tr>\n",
       "    <tr>\n",
       "      <th>25%</th>\n",
       "      <td>14.266667</td>\n",
       "    </tr>\n",
       "    <tr>\n",
       "      <th>50%</th>\n",
       "      <td>52.016667</td>\n",
       "    </tr>\n",
       "    <tr>\n",
       "      <th>75%</th>\n",
       "      <td>298.858333</td>\n",
       "    </tr>\n",
       "    <tr>\n",
       "      <th>max</th>\n",
       "      <td>10727.466667</td>\n",
       "    </tr>\n",
       "  </tbody>\n",
       "</table>\n",
       "</div>"
      ],
      "text/plain": [
       "       average_trips\n",
       "count      94.000000\n",
       "mean      599.953728\n",
       "std      1714.591098\n",
       "min         1.800000\n",
       "25%        14.266667\n",
       "50%        52.016667\n",
       "75%       298.858333\n",
       "max     10727.466667"
      ]
     },
     "execution_count": 9,
     "metadata": {},
     "output_type": "execute_result"
    }
   ],
   "source": [
    "average_trip_location.describe()\n"
   ]
  },
  {
   "cell_type": "markdown",
   "metadata": {},
   "source": [
    "All values seem normal, showing the least and most popular drop off locations at the min() value of 1.8 trips on average and max() value of 10,727 trips on average at the most popular destination.  \n",
    "\n",
    "The only issue is that the float is not the easiest to read as is. I debated removing changing it to integers but will round the decimals up instead. "
   ]
  },
  {
   "cell_type": "code",
   "execution_count": 10,
   "metadata": {},
   "outputs": [
    {
     "data": {
      "text/html": [
       "<div>\n",
       "<style scoped>\n",
       "    .dataframe tbody tr th:only-of-type {\n",
       "        vertical-align: middle;\n",
       "    }\n",
       "\n",
       "    .dataframe tbody tr th {\n",
       "        vertical-align: top;\n",
       "    }\n",
       "\n",
       "    .dataframe thead th {\n",
       "        text-align: right;\n",
       "    }\n",
       "</style>\n",
       "<table border=\"1\" class=\"dataframe\">\n",
       "  <thead>\n",
       "    <tr style=\"text-align: right;\">\n",
       "      <th></th>\n",
       "      <th>dropoff_location_name</th>\n",
       "      <th>average_trips</th>\n",
       "    </tr>\n",
       "  </thead>\n",
       "  <tbody>\n",
       "    <tr>\n",
       "      <th>0</th>\n",
       "      <td>Loop</td>\n",
       "      <td>10727.47</td>\n",
       "    </tr>\n",
       "    <tr>\n",
       "      <th>1</th>\n",
       "      <td>River North</td>\n",
       "      <td>9523.67</td>\n",
       "    </tr>\n",
       "    <tr>\n",
       "      <th>2</th>\n",
       "      <td>Streeterville</td>\n",
       "      <td>6664.67</td>\n",
       "    </tr>\n",
       "    <tr>\n",
       "      <th>3</th>\n",
       "      <td>West Loop</td>\n",
       "      <td>5163.67</td>\n",
       "    </tr>\n",
       "    <tr>\n",
       "      <th>4</th>\n",
       "      <td>O'Hare</td>\n",
       "      <td>2546.90</td>\n",
       "    </tr>\n",
       "    <tr>\n",
       "      <th>...</th>\n",
       "      <td>...</td>\n",
       "      <td>...</td>\n",
       "    </tr>\n",
       "    <tr>\n",
       "      <th>89</th>\n",
       "      <td>Mount Greenwood</td>\n",
       "      <td>3.14</td>\n",
       "    </tr>\n",
       "    <tr>\n",
       "      <th>90</th>\n",
       "      <td>Hegewisch</td>\n",
       "      <td>3.12</td>\n",
       "    </tr>\n",
       "    <tr>\n",
       "      <th>91</th>\n",
       "      <td>Burnside</td>\n",
       "      <td>2.33</td>\n",
       "    </tr>\n",
       "    <tr>\n",
       "      <th>92</th>\n",
       "      <td>East Side</td>\n",
       "      <td>1.96</td>\n",
       "    </tr>\n",
       "    <tr>\n",
       "      <th>93</th>\n",
       "      <td>Riverdale</td>\n",
       "      <td>1.80</td>\n",
       "    </tr>\n",
       "  </tbody>\n",
       "</table>\n",
       "<p>94 rows × 2 columns</p>\n",
       "</div>"
      ],
      "text/plain": [
       "   dropoff_location_name  average_trips\n",
       "0                   Loop       10727.47\n",
       "1            River North        9523.67\n",
       "2          Streeterville        6664.67\n",
       "3              West Loop        5163.67\n",
       "4                 O'Hare        2546.90\n",
       "..                   ...            ...\n",
       "89       Mount Greenwood           3.14\n",
       "90             Hegewisch           3.12\n",
       "91              Burnside           2.33\n",
       "92             East Side           1.96\n",
       "93             Riverdale           1.80\n",
       "\n",
       "[94 rows x 2 columns]"
      ]
     },
     "execution_count": 10,
     "metadata": {},
     "output_type": "execute_result"
    }
   ],
   "source": [
    "# Rounding the decimal points for readability \n",
    "average_trip_location['average_trips'] = average_trip_location['average_trips'].round(2)\n",
    "average_trip_location\n"
   ]
  },
  {
   "cell_type": "markdown",
   "metadata": {},
   "source": [
    "## Data Visualizations \n"
   ]
  },
  {
   "cell_type": "markdown",
   "metadata": {},
   "source": [
    "**Total Trips Completed by Each Taxi Company**\n"
   ]
  },
  {
   "cell_type": "code",
   "execution_count": 11,
   "metadata": {},
   "outputs": [
    {
     "data": {
      "application/vnd.plotly.v1+json": {
       "config": {
        "plotlyServerURL": "https://plot.ly"
       },
       "data": [
        {
         "alignmentgroup": "True",
         "hovertemplate": "trips_amount=%{x}<br>company_name=%{y}<extra></extra>",
         "legendgroup": "",
         "marker": {
          "color": "#636efa",
          "pattern": {
           "shape": ""
          }
         },
         "name": "",
         "offsetgroup": "",
         "orientation": "h",
         "showlegend": false,
         "textposition": "auto",
         "type": "bar",
         "x": [
          19558,
          11422,
          10367,
          9888,
          9299,
          9181,
          8448,
          7701,
          7455,
          5953,
          5015,
          4383,
          3355,
          3175,
          2235,
          2216,
          2070,
          1955,
          1775,
          1607,
          1486,
          1404,
          1296,
          1259,
          1014,
          978,
          428,
          402,
          310,
          250,
          230,
          210,
          147,
          146,
          127,
          39,
          37,
          36,
          33,
          33,
          31,
          29,
          29,
          29,
          27,
          25,
          21,
          21,
          20,
          16,
          15,
          15,
          14,
          14,
          14,
          13,
          12,
          11,
          8,
          7,
          7,
          5,
          3,
          2
         ],
         "xaxis": "x",
         "y": [
          "Flash Cab",
          "Taxi Affiliation Services",
          "Medallion Leasin",
          "Yellow Cab",
          "Taxi Affiliation Service Yellow",
          "Chicago Carriage Cab Corp",
          "City Service",
          "Sun Taxi",
          "Star North Management LLC",
          "Blue Ribbon Taxi Association Inc.",
          "Choice Taxi Association",
          "Globe Taxi",
          "Dispatch Taxi Affiliation",
          "Nova Taxi Affiliation Llc",
          "Patriot Taxi Dba Peace Taxi Associat",
          "Checker Taxi Affiliation",
          "Blue Diamond",
          "Chicago Medallion Management",
          "24 Seven Taxi",
          "Chicago Medallion Leasing INC",
          "Checker Taxi",
          "American United",
          "Chicago Independents",
          "KOAM Taxi Association",
          "Chicago Taxicab",
          "Top Cab Affiliation",
          "Gold Coast Taxi",
          "Service Taxi Association",
          "5 Star Taxi",
          "303 Taxi",
          "Setare Inc",
          "American United Taxi Affiliation",
          "Leonard Cab Co",
          "Metro Jet Taxi A",
          "Norshore Cab",
          "6742 - 83735 Tasha ride inc",
          "3591 - 63480 Chuks Cab",
          "1469 - 64126 Omar Jada",
          "6743 - 78771 Luhak Corp",
          "0118 - 42111 Godfrey S.Awir",
          "6574 - Babylon Express Inc.",
          "Chicago Star Taxicab",
          "1085 - 72312 N and W Cab Co",
          "2809 - 95474 C & D Cab Co Inc.",
          "2092 - 61288 Sbeih company",
          "3011 - 66308 JBL Cab Inc.",
          "3620 - 52292 David K. Cab Corp.",
          "4615 - 83503 Tyrone Henderson",
          "3623 - 72222 Arrington Enterprises",
          "5074 - 54002 Ahzmi Inc",
          "2823 - 73307 Lee Express Inc",
          "4623 - 27290 Jay Kim",
          "3721 - Santamaria Express, Alvaro Santamaria",
          "5006 - 39261 Salifu Bawa",
          "2192 - 73487 Zeymane Corp",
          "6057 - 24657 Richard Addo",
          "5997 - 65283 AW Services Inc.",
          "Metro Group",
          "5062 - 34841 Sam Mestas",
          "4053 - 40193 Adwar H. Nikola",
          "2733 - 74600 Benny Jona",
          "5874 - 73628 Sergey Cab Corp.",
          "2241 - 44667 - Felman Corp, Manuel Alonso",
          "3556 - 36214 RC Andrews Cab"
         ],
         "yaxis": "y"
        }
       ],
       "layout": {
        "barmode": "relative",
        "height": 600,
        "legend": {
         "tracegroupgap": 0
        },
        "template": {
         "data": {
          "bar": [
           {
            "error_x": {
             "color": "#2a3f5f"
            },
            "error_y": {
             "color": "#2a3f5f"
            },
            "marker": {
             "line": {
              "color": "#E5ECF6",
              "width": 0.5
             },
             "pattern": {
              "fillmode": "overlay",
              "size": 10,
              "solidity": 0.2
             }
            },
            "type": "bar"
           }
          ],
          "barpolar": [
           {
            "marker": {
             "line": {
              "color": "#E5ECF6",
              "width": 0.5
             },
             "pattern": {
              "fillmode": "overlay",
              "size": 10,
              "solidity": 0.2
             }
            },
            "type": "barpolar"
           }
          ],
          "carpet": [
           {
            "aaxis": {
             "endlinecolor": "#2a3f5f",
             "gridcolor": "white",
             "linecolor": "white",
             "minorgridcolor": "white",
             "startlinecolor": "#2a3f5f"
            },
            "baxis": {
             "endlinecolor": "#2a3f5f",
             "gridcolor": "white",
             "linecolor": "white",
             "minorgridcolor": "white",
             "startlinecolor": "#2a3f5f"
            },
            "type": "carpet"
           }
          ],
          "choropleth": [
           {
            "colorbar": {
             "outlinewidth": 0,
             "ticks": ""
            },
            "type": "choropleth"
           }
          ],
          "contour": [
           {
            "colorbar": {
             "outlinewidth": 0,
             "ticks": ""
            },
            "colorscale": [
             [
              0,
              "#0d0887"
             ],
             [
              0.1111111111111111,
              "#46039f"
             ],
             [
              0.2222222222222222,
              "#7201a8"
             ],
             [
              0.3333333333333333,
              "#9c179e"
             ],
             [
              0.4444444444444444,
              "#bd3786"
             ],
             [
              0.5555555555555556,
              "#d8576b"
             ],
             [
              0.6666666666666666,
              "#ed7953"
             ],
             [
              0.7777777777777778,
              "#fb9f3a"
             ],
             [
              0.8888888888888888,
              "#fdca26"
             ],
             [
              1,
              "#f0f921"
             ]
            ],
            "type": "contour"
           }
          ],
          "contourcarpet": [
           {
            "colorbar": {
             "outlinewidth": 0,
             "ticks": ""
            },
            "type": "contourcarpet"
           }
          ],
          "heatmap": [
           {
            "colorbar": {
             "outlinewidth": 0,
             "ticks": ""
            },
            "colorscale": [
             [
              0,
              "#0d0887"
             ],
             [
              0.1111111111111111,
              "#46039f"
             ],
             [
              0.2222222222222222,
              "#7201a8"
             ],
             [
              0.3333333333333333,
              "#9c179e"
             ],
             [
              0.4444444444444444,
              "#bd3786"
             ],
             [
              0.5555555555555556,
              "#d8576b"
             ],
             [
              0.6666666666666666,
              "#ed7953"
             ],
             [
              0.7777777777777778,
              "#fb9f3a"
             ],
             [
              0.8888888888888888,
              "#fdca26"
             ],
             [
              1,
              "#f0f921"
             ]
            ],
            "type": "heatmap"
           }
          ],
          "heatmapgl": [
           {
            "colorbar": {
             "outlinewidth": 0,
             "ticks": ""
            },
            "colorscale": [
             [
              0,
              "#0d0887"
             ],
             [
              0.1111111111111111,
              "#46039f"
             ],
             [
              0.2222222222222222,
              "#7201a8"
             ],
             [
              0.3333333333333333,
              "#9c179e"
             ],
             [
              0.4444444444444444,
              "#bd3786"
             ],
             [
              0.5555555555555556,
              "#d8576b"
             ],
             [
              0.6666666666666666,
              "#ed7953"
             ],
             [
              0.7777777777777778,
              "#fb9f3a"
             ],
             [
              0.8888888888888888,
              "#fdca26"
             ],
             [
              1,
              "#f0f921"
             ]
            ],
            "type": "heatmapgl"
           }
          ],
          "histogram": [
           {
            "marker": {
             "pattern": {
              "fillmode": "overlay",
              "size": 10,
              "solidity": 0.2
             }
            },
            "type": "histogram"
           }
          ],
          "histogram2d": [
           {
            "colorbar": {
             "outlinewidth": 0,
             "ticks": ""
            },
            "colorscale": [
             [
              0,
              "#0d0887"
             ],
             [
              0.1111111111111111,
              "#46039f"
             ],
             [
              0.2222222222222222,
              "#7201a8"
             ],
             [
              0.3333333333333333,
              "#9c179e"
             ],
             [
              0.4444444444444444,
              "#bd3786"
             ],
             [
              0.5555555555555556,
              "#d8576b"
             ],
             [
              0.6666666666666666,
              "#ed7953"
             ],
             [
              0.7777777777777778,
              "#fb9f3a"
             ],
             [
              0.8888888888888888,
              "#fdca26"
             ],
             [
              1,
              "#f0f921"
             ]
            ],
            "type": "histogram2d"
           }
          ],
          "histogram2dcontour": [
           {
            "colorbar": {
             "outlinewidth": 0,
             "ticks": ""
            },
            "colorscale": [
             [
              0,
              "#0d0887"
             ],
             [
              0.1111111111111111,
              "#46039f"
             ],
             [
              0.2222222222222222,
              "#7201a8"
             ],
             [
              0.3333333333333333,
              "#9c179e"
             ],
             [
              0.4444444444444444,
              "#bd3786"
             ],
             [
              0.5555555555555556,
              "#d8576b"
             ],
             [
              0.6666666666666666,
              "#ed7953"
             ],
             [
              0.7777777777777778,
              "#fb9f3a"
             ],
             [
              0.8888888888888888,
              "#fdca26"
             ],
             [
              1,
              "#f0f921"
             ]
            ],
            "type": "histogram2dcontour"
           }
          ],
          "mesh3d": [
           {
            "colorbar": {
             "outlinewidth": 0,
             "ticks": ""
            },
            "type": "mesh3d"
           }
          ],
          "parcoords": [
           {
            "line": {
             "colorbar": {
              "outlinewidth": 0,
              "ticks": ""
             }
            },
            "type": "parcoords"
           }
          ],
          "pie": [
           {
            "automargin": true,
            "type": "pie"
           }
          ],
          "scatter": [
           {
            "fillpattern": {
             "fillmode": "overlay",
             "size": 10,
             "solidity": 0.2
            },
            "type": "scatter"
           }
          ],
          "scatter3d": [
           {
            "line": {
             "colorbar": {
              "outlinewidth": 0,
              "ticks": ""
             }
            },
            "marker": {
             "colorbar": {
              "outlinewidth": 0,
              "ticks": ""
             }
            },
            "type": "scatter3d"
           }
          ],
          "scattercarpet": [
           {
            "marker": {
             "colorbar": {
              "outlinewidth": 0,
              "ticks": ""
             }
            },
            "type": "scattercarpet"
           }
          ],
          "scattergeo": [
           {
            "marker": {
             "colorbar": {
              "outlinewidth": 0,
              "ticks": ""
             }
            },
            "type": "scattergeo"
           }
          ],
          "scattergl": [
           {
            "marker": {
             "colorbar": {
              "outlinewidth": 0,
              "ticks": ""
             }
            },
            "type": "scattergl"
           }
          ],
          "scattermapbox": [
           {
            "marker": {
             "colorbar": {
              "outlinewidth": 0,
              "ticks": ""
             }
            },
            "type": "scattermapbox"
           }
          ],
          "scatterpolar": [
           {
            "marker": {
             "colorbar": {
              "outlinewidth": 0,
              "ticks": ""
             }
            },
            "type": "scatterpolar"
           }
          ],
          "scatterpolargl": [
           {
            "marker": {
             "colorbar": {
              "outlinewidth": 0,
              "ticks": ""
             }
            },
            "type": "scatterpolargl"
           }
          ],
          "scatterternary": [
           {
            "marker": {
             "colorbar": {
              "outlinewidth": 0,
              "ticks": ""
             }
            },
            "type": "scatterternary"
           }
          ],
          "surface": [
           {
            "colorbar": {
             "outlinewidth": 0,
             "ticks": ""
            },
            "colorscale": [
             [
              0,
              "#0d0887"
             ],
             [
              0.1111111111111111,
              "#46039f"
             ],
             [
              0.2222222222222222,
              "#7201a8"
             ],
             [
              0.3333333333333333,
              "#9c179e"
             ],
             [
              0.4444444444444444,
              "#bd3786"
             ],
             [
              0.5555555555555556,
              "#d8576b"
             ],
             [
              0.6666666666666666,
              "#ed7953"
             ],
             [
              0.7777777777777778,
              "#fb9f3a"
             ],
             [
              0.8888888888888888,
              "#fdca26"
             ],
             [
              1,
              "#f0f921"
             ]
            ],
            "type": "surface"
           }
          ],
          "table": [
           {
            "cells": {
             "fill": {
              "color": "#EBF0F8"
             },
             "line": {
              "color": "white"
             }
            },
            "header": {
             "fill": {
              "color": "#C8D4E3"
             },
             "line": {
              "color": "white"
             }
            },
            "type": "table"
           }
          ]
         },
         "layout": {
          "annotationdefaults": {
           "arrowcolor": "#2a3f5f",
           "arrowhead": 0,
           "arrowwidth": 1
          },
          "autotypenumbers": "strict",
          "coloraxis": {
           "colorbar": {
            "outlinewidth": 0,
            "ticks": ""
           }
          },
          "colorscale": {
           "diverging": [
            [
             0,
             "#8e0152"
            ],
            [
             0.1,
             "#c51b7d"
            ],
            [
             0.2,
             "#de77ae"
            ],
            [
             0.3,
             "#f1b6da"
            ],
            [
             0.4,
             "#fde0ef"
            ],
            [
             0.5,
             "#f7f7f7"
            ],
            [
             0.6,
             "#e6f5d0"
            ],
            [
             0.7,
             "#b8e186"
            ],
            [
             0.8,
             "#7fbc41"
            ],
            [
             0.9,
             "#4d9221"
            ],
            [
             1,
             "#276419"
            ]
           ],
           "sequential": [
            [
             0,
             "#0d0887"
            ],
            [
             0.1111111111111111,
             "#46039f"
            ],
            [
             0.2222222222222222,
             "#7201a8"
            ],
            [
             0.3333333333333333,
             "#9c179e"
            ],
            [
             0.4444444444444444,
             "#bd3786"
            ],
            [
             0.5555555555555556,
             "#d8576b"
            ],
            [
             0.6666666666666666,
             "#ed7953"
            ],
            [
             0.7777777777777778,
             "#fb9f3a"
            ],
            [
             0.8888888888888888,
             "#fdca26"
            ],
            [
             1,
             "#f0f921"
            ]
           ],
           "sequentialminus": [
            [
             0,
             "#0d0887"
            ],
            [
             0.1111111111111111,
             "#46039f"
            ],
            [
             0.2222222222222222,
             "#7201a8"
            ],
            [
             0.3333333333333333,
             "#9c179e"
            ],
            [
             0.4444444444444444,
             "#bd3786"
            ],
            [
             0.5555555555555556,
             "#d8576b"
            ],
            [
             0.6666666666666666,
             "#ed7953"
            ],
            [
             0.7777777777777778,
             "#fb9f3a"
            ],
            [
             0.8888888888888888,
             "#fdca26"
            ],
            [
             1,
             "#f0f921"
            ]
           ]
          },
          "colorway": [
           "#636efa",
           "#EF553B",
           "#00cc96",
           "#ab63fa",
           "#FFA15A",
           "#19d3f3",
           "#FF6692",
           "#B6E880",
           "#FF97FF",
           "#FECB52"
          ],
          "font": {
           "color": "#2a3f5f"
          },
          "geo": {
           "bgcolor": "white",
           "lakecolor": "white",
           "landcolor": "#E5ECF6",
           "showlakes": true,
           "showland": true,
           "subunitcolor": "white"
          },
          "hoverlabel": {
           "align": "left"
          },
          "hovermode": "closest",
          "mapbox": {
           "style": "light"
          },
          "paper_bgcolor": "white",
          "plot_bgcolor": "#E5ECF6",
          "polar": {
           "angularaxis": {
            "gridcolor": "white",
            "linecolor": "white",
            "ticks": ""
           },
           "bgcolor": "#E5ECF6",
           "radialaxis": {
            "gridcolor": "white",
            "linecolor": "white",
            "ticks": ""
           }
          },
          "scene": {
           "xaxis": {
            "backgroundcolor": "#E5ECF6",
            "gridcolor": "white",
            "gridwidth": 2,
            "linecolor": "white",
            "showbackground": true,
            "ticks": "",
            "zerolinecolor": "white"
           },
           "yaxis": {
            "backgroundcolor": "#E5ECF6",
            "gridcolor": "white",
            "gridwidth": 2,
            "linecolor": "white",
            "showbackground": true,
            "ticks": "",
            "zerolinecolor": "white"
           },
           "zaxis": {
            "backgroundcolor": "#E5ECF6",
            "gridcolor": "white",
            "gridwidth": 2,
            "linecolor": "white",
            "showbackground": true,
            "ticks": "",
            "zerolinecolor": "white"
           }
          },
          "shapedefaults": {
           "line": {
            "color": "#2a3f5f"
           }
          },
          "ternary": {
           "aaxis": {
            "gridcolor": "white",
            "linecolor": "white",
            "ticks": ""
           },
           "baxis": {
            "gridcolor": "white",
            "linecolor": "white",
            "ticks": ""
           },
           "bgcolor": "#E5ECF6",
           "caxis": {
            "gridcolor": "white",
            "linecolor": "white",
            "ticks": ""
           }
          },
          "title": {
           "x": 0.05
          },
          "xaxis": {
           "automargin": true,
           "gridcolor": "white",
           "linecolor": "white",
           "ticks": "",
           "title": {
            "standoff": 15
           },
           "zerolinecolor": "white",
           "zerolinewidth": 2
          },
          "yaxis": {
           "automargin": true,
           "gridcolor": "white",
           "linecolor": "white",
           "ticks": "",
           "title": {
            "standoff": 15
           },
           "zerolinecolor": "white",
           "zerolinewidth": 2
          }
         }
        },
        "title": {
         "text": "Total Taxi Trips by Company"
        },
        "width": 800,
        "xaxis": {
         "anchor": "y",
         "domain": [
          0,
          1
         ],
         "tickangle": 0,
         "title": {
          "text": "Total Trips Completed"
         }
        },
        "yaxis": {
         "anchor": "x",
         "categoryarray": [
          "3556 - 36214 RC Andrews Cab",
          "2241 - 44667 - Felman Corp, Manuel Alonso",
          "5874 - 73628 Sergey Cab Corp.",
          "2733 - 74600 Benny Jona",
          "4053 - 40193 Adwar H. Nikola",
          "5062 - 34841 Sam Mestas",
          "Metro Group",
          "5997 - 65283 AW Services Inc.",
          "6057 - 24657 Richard Addo",
          "2192 - 73487 Zeymane Corp",
          "5006 - 39261 Salifu Bawa",
          "3721 - Santamaria Express, Alvaro Santamaria",
          "4623 - 27290 Jay Kim",
          "2823 - 73307 Lee Express Inc",
          "5074 - 54002 Ahzmi Inc",
          "3623 - 72222 Arrington Enterprises",
          "4615 - 83503 Tyrone Henderson",
          "3620 - 52292 David K. Cab Corp.",
          "3011 - 66308 JBL Cab Inc.",
          "2092 - 61288 Sbeih company",
          "2809 - 95474 C & D Cab Co Inc.",
          "1085 - 72312 N and W Cab Co",
          "Chicago Star Taxicab",
          "6574 - Babylon Express Inc.",
          "0118 - 42111 Godfrey S.Awir",
          "6743 - 78771 Luhak Corp",
          "1469 - 64126 Omar Jada",
          "3591 - 63480 Chuks Cab",
          "6742 - 83735 Tasha ride inc",
          "Norshore Cab",
          "Metro Jet Taxi A",
          "Leonard Cab Co",
          "American United Taxi Affiliation",
          "Setare Inc",
          "303 Taxi",
          "5 Star Taxi",
          "Service Taxi Association",
          "Gold Coast Taxi",
          "Top Cab Affiliation",
          "Chicago Taxicab",
          "KOAM Taxi Association",
          "Chicago Independents",
          "American United",
          "Checker Taxi",
          "Chicago Medallion Leasing INC",
          "24 Seven Taxi",
          "Chicago Medallion Management",
          "Blue Diamond",
          "Checker Taxi Affiliation",
          "Patriot Taxi Dba Peace Taxi Associat",
          "Nova Taxi Affiliation Llc",
          "Dispatch Taxi Affiliation",
          "Globe Taxi",
          "Choice Taxi Association",
          "Blue Ribbon Taxi Association Inc.",
          "Star North Management LLC",
          "Sun Taxi",
          "City Service",
          "Chicago Carriage Cab Corp",
          "Taxi Affiliation Service Yellow",
          "Yellow Cab",
          "Medallion Leasin",
          "Taxi Affiliation Services",
          "Flash Cab"
         ],
         "categoryorder": "array",
         "domain": [
          0,
          1
         ],
         "title": {
          "text": "Company Name"
         }
        }
       }
      }
     },
     "metadata": {},
     "output_type": "display_data"
    }
   ],
   "source": [
    "# Creates bar graph for total trips by company \n",
    "fig = px.bar(company_trips, x='trips_amount', y='company_name', \n",
    "             title='Total Taxi Trips by Company',\n",
    "             category_orders={\"company_name\": company_trips['company_name'][::-1]})\n",
    "fig.update_layout(width=800, height=600, xaxis_title='Total Trips Completed', yaxis_title='Company Name', xaxis_tickangle=0)\n",
    "fig.show()\n"
   ]
  },
  {
   "cell_type": "markdown",
   "metadata": {},
   "source": [
    "The top taxi service, Flash Cab has a great lead on total trips compeleted, showing that it is clearly very seasoned in the field and has a large fleet and established presence compared to all other services in the area. \n",
    "\n",
    "There are only a very few dominant players in the Chicago taxi business with only the top 12 companies appear to have completed a total of at least 100 trips, which makes it clear that there are only a handful of extremely popular services which most people use in the Chicago area. \n",
    "\n"
   ]
  },
  {
   "cell_type": "markdown",
   "metadata": {},
   "source": [
    "### Top Taxi Services "
   ]
  },
  {
   "cell_type": "code",
   "execution_count": 12,
   "metadata": {
    "scrolled": true
   },
   "outputs": [
    {
     "data": {
      "text/html": [
       "<div>\n",
       "<style scoped>\n",
       "    .dataframe tbody tr th:only-of-type {\n",
       "        vertical-align: middle;\n",
       "    }\n",
       "\n",
       "    .dataframe tbody tr th {\n",
       "        vertical-align: top;\n",
       "    }\n",
       "\n",
       "    .dataframe thead th {\n",
       "        text-align: right;\n",
       "    }\n",
       "</style>\n",
       "<table border=\"1\" class=\"dataframe\">\n",
       "  <thead>\n",
       "    <tr style=\"text-align: right;\">\n",
       "      <th></th>\n",
       "      <th>company_name</th>\n",
       "      <th>trips_amount</th>\n",
       "    </tr>\n",
       "  </thead>\n",
       "  <tbody>\n",
       "    <tr>\n",
       "      <th>0</th>\n",
       "      <td>Flash Cab</td>\n",
       "      <td>19558</td>\n",
       "    </tr>\n",
       "    <tr>\n",
       "      <th>1</th>\n",
       "      <td>Taxi Affiliation Services</td>\n",
       "      <td>11422</td>\n",
       "    </tr>\n",
       "    <tr>\n",
       "      <th>2</th>\n",
       "      <td>Medallion Leasin</td>\n",
       "      <td>10367</td>\n",
       "    </tr>\n",
       "    <tr>\n",
       "      <th>3</th>\n",
       "      <td>Yellow Cab</td>\n",
       "      <td>9888</td>\n",
       "    </tr>\n",
       "    <tr>\n",
       "      <th>4</th>\n",
       "      <td>Taxi Affiliation Service Yellow</td>\n",
       "      <td>9299</td>\n",
       "    </tr>\n",
       "    <tr>\n",
       "      <th>5</th>\n",
       "      <td>Chicago Carriage Cab Corp</td>\n",
       "      <td>9181</td>\n",
       "    </tr>\n",
       "    <tr>\n",
       "      <th>6</th>\n",
       "      <td>City Service</td>\n",
       "      <td>8448</td>\n",
       "    </tr>\n",
       "    <tr>\n",
       "      <th>7</th>\n",
       "      <td>Sun Taxi</td>\n",
       "      <td>7701</td>\n",
       "    </tr>\n",
       "    <tr>\n",
       "      <th>8</th>\n",
       "      <td>Star North Management LLC</td>\n",
       "      <td>7455</td>\n",
       "    </tr>\n",
       "    <tr>\n",
       "      <th>9</th>\n",
       "      <td>Blue Ribbon Taxi Association Inc.</td>\n",
       "      <td>5953</td>\n",
       "    </tr>\n",
       "  </tbody>\n",
       "</table>\n",
       "</div>"
      ],
      "text/plain": [
       "                        company_name  trips_amount\n",
       "0                          Flash Cab         19558\n",
       "1          Taxi Affiliation Services         11422\n",
       "2                   Medallion Leasin         10367\n",
       "3                         Yellow Cab          9888\n",
       "4    Taxi Affiliation Service Yellow          9299\n",
       "5          Chicago Carriage Cab Corp          9181\n",
       "6                       City Service          8448\n",
       "7                           Sun Taxi          7701\n",
       "8          Star North Management LLC          7455\n",
       "9  Blue Ribbon Taxi Association Inc.          5953"
      ]
     },
     "execution_count": 12,
     "metadata": {},
     "output_type": "execute_result"
    }
   ],
   "source": [
    "# Top 10 taxi services by total trips completed \n",
    "top_10_company = company_trips.sort_values(by='trips_amount', ascending=False)\n",
    "top_10_company = top_10_company .head(10)\n",
    "top_10_company "
   ]
  },
  {
   "cell_type": "markdown",
   "metadata": {},
   "source": [
    "<br> \n",
    "\n",
    "**Top 10 Taxi Companies by Total of Trips Completed** "
   ]
  },
  {
   "cell_type": "code",
   "execution_count": 13,
   "metadata": {},
   "outputs": [
    {
     "data": {
      "application/vnd.plotly.v1+json": {
       "config": {
        "plotlyServerURL": "https://plot.ly"
       },
       "data": [
        {
         "alignmentgroup": "True",
         "hovertemplate": "trips_amount=%{x}<br>company_name=%{y}<extra></extra>",
         "legendgroup": "",
         "marker": {
          "color": "#636efa",
          "pattern": {
           "shape": ""
          }
         },
         "name": "",
         "offsetgroup": "",
         "orientation": "h",
         "showlegend": false,
         "textposition": "auto",
         "type": "bar",
         "x": [
          19558,
          11422,
          10367,
          9888,
          9299,
          9181,
          8448,
          7701,
          7455,
          5953
         ],
         "xaxis": "x",
         "y": [
          "Flash Cab",
          "Taxi Affiliation Services",
          "Medallion Leasin",
          "Yellow Cab",
          "Taxi Affiliation Service Yellow",
          "Chicago Carriage Cab Corp",
          "City Service",
          "Sun Taxi",
          "Star North Management LLC",
          "Blue Ribbon Taxi Association Inc."
         ],
         "yaxis": "y"
        }
       ],
       "layout": {
        "barmode": "relative",
        "legend": {
         "tracegroupgap": 0
        },
        "template": {
         "data": {
          "bar": [
           {
            "error_x": {
             "color": "#2a3f5f"
            },
            "error_y": {
             "color": "#2a3f5f"
            },
            "marker": {
             "line": {
              "color": "#E5ECF6",
              "width": 0.5
             },
             "pattern": {
              "fillmode": "overlay",
              "size": 10,
              "solidity": 0.2
             }
            },
            "type": "bar"
           }
          ],
          "barpolar": [
           {
            "marker": {
             "line": {
              "color": "#E5ECF6",
              "width": 0.5
             },
             "pattern": {
              "fillmode": "overlay",
              "size": 10,
              "solidity": 0.2
             }
            },
            "type": "barpolar"
           }
          ],
          "carpet": [
           {
            "aaxis": {
             "endlinecolor": "#2a3f5f",
             "gridcolor": "white",
             "linecolor": "white",
             "minorgridcolor": "white",
             "startlinecolor": "#2a3f5f"
            },
            "baxis": {
             "endlinecolor": "#2a3f5f",
             "gridcolor": "white",
             "linecolor": "white",
             "minorgridcolor": "white",
             "startlinecolor": "#2a3f5f"
            },
            "type": "carpet"
           }
          ],
          "choropleth": [
           {
            "colorbar": {
             "outlinewidth": 0,
             "ticks": ""
            },
            "type": "choropleth"
           }
          ],
          "contour": [
           {
            "colorbar": {
             "outlinewidth": 0,
             "ticks": ""
            },
            "colorscale": [
             [
              0,
              "#0d0887"
             ],
             [
              0.1111111111111111,
              "#46039f"
             ],
             [
              0.2222222222222222,
              "#7201a8"
             ],
             [
              0.3333333333333333,
              "#9c179e"
             ],
             [
              0.4444444444444444,
              "#bd3786"
             ],
             [
              0.5555555555555556,
              "#d8576b"
             ],
             [
              0.6666666666666666,
              "#ed7953"
             ],
             [
              0.7777777777777778,
              "#fb9f3a"
             ],
             [
              0.8888888888888888,
              "#fdca26"
             ],
             [
              1,
              "#f0f921"
             ]
            ],
            "type": "contour"
           }
          ],
          "contourcarpet": [
           {
            "colorbar": {
             "outlinewidth": 0,
             "ticks": ""
            },
            "type": "contourcarpet"
           }
          ],
          "heatmap": [
           {
            "colorbar": {
             "outlinewidth": 0,
             "ticks": ""
            },
            "colorscale": [
             [
              0,
              "#0d0887"
             ],
             [
              0.1111111111111111,
              "#46039f"
             ],
             [
              0.2222222222222222,
              "#7201a8"
             ],
             [
              0.3333333333333333,
              "#9c179e"
             ],
             [
              0.4444444444444444,
              "#bd3786"
             ],
             [
              0.5555555555555556,
              "#d8576b"
             ],
             [
              0.6666666666666666,
              "#ed7953"
             ],
             [
              0.7777777777777778,
              "#fb9f3a"
             ],
             [
              0.8888888888888888,
              "#fdca26"
             ],
             [
              1,
              "#f0f921"
             ]
            ],
            "type": "heatmap"
           }
          ],
          "heatmapgl": [
           {
            "colorbar": {
             "outlinewidth": 0,
             "ticks": ""
            },
            "colorscale": [
             [
              0,
              "#0d0887"
             ],
             [
              0.1111111111111111,
              "#46039f"
             ],
             [
              0.2222222222222222,
              "#7201a8"
             ],
             [
              0.3333333333333333,
              "#9c179e"
             ],
             [
              0.4444444444444444,
              "#bd3786"
             ],
             [
              0.5555555555555556,
              "#d8576b"
             ],
             [
              0.6666666666666666,
              "#ed7953"
             ],
             [
              0.7777777777777778,
              "#fb9f3a"
             ],
             [
              0.8888888888888888,
              "#fdca26"
             ],
             [
              1,
              "#f0f921"
             ]
            ],
            "type": "heatmapgl"
           }
          ],
          "histogram": [
           {
            "marker": {
             "pattern": {
              "fillmode": "overlay",
              "size": 10,
              "solidity": 0.2
             }
            },
            "type": "histogram"
           }
          ],
          "histogram2d": [
           {
            "colorbar": {
             "outlinewidth": 0,
             "ticks": ""
            },
            "colorscale": [
             [
              0,
              "#0d0887"
             ],
             [
              0.1111111111111111,
              "#46039f"
             ],
             [
              0.2222222222222222,
              "#7201a8"
             ],
             [
              0.3333333333333333,
              "#9c179e"
             ],
             [
              0.4444444444444444,
              "#bd3786"
             ],
             [
              0.5555555555555556,
              "#d8576b"
             ],
             [
              0.6666666666666666,
              "#ed7953"
             ],
             [
              0.7777777777777778,
              "#fb9f3a"
             ],
             [
              0.8888888888888888,
              "#fdca26"
             ],
             [
              1,
              "#f0f921"
             ]
            ],
            "type": "histogram2d"
           }
          ],
          "histogram2dcontour": [
           {
            "colorbar": {
             "outlinewidth": 0,
             "ticks": ""
            },
            "colorscale": [
             [
              0,
              "#0d0887"
             ],
             [
              0.1111111111111111,
              "#46039f"
             ],
             [
              0.2222222222222222,
              "#7201a8"
             ],
             [
              0.3333333333333333,
              "#9c179e"
             ],
             [
              0.4444444444444444,
              "#bd3786"
             ],
             [
              0.5555555555555556,
              "#d8576b"
             ],
             [
              0.6666666666666666,
              "#ed7953"
             ],
             [
              0.7777777777777778,
              "#fb9f3a"
             ],
             [
              0.8888888888888888,
              "#fdca26"
             ],
             [
              1,
              "#f0f921"
             ]
            ],
            "type": "histogram2dcontour"
           }
          ],
          "mesh3d": [
           {
            "colorbar": {
             "outlinewidth": 0,
             "ticks": ""
            },
            "type": "mesh3d"
           }
          ],
          "parcoords": [
           {
            "line": {
             "colorbar": {
              "outlinewidth": 0,
              "ticks": ""
             }
            },
            "type": "parcoords"
           }
          ],
          "pie": [
           {
            "automargin": true,
            "type": "pie"
           }
          ],
          "scatter": [
           {
            "fillpattern": {
             "fillmode": "overlay",
             "size": 10,
             "solidity": 0.2
            },
            "type": "scatter"
           }
          ],
          "scatter3d": [
           {
            "line": {
             "colorbar": {
              "outlinewidth": 0,
              "ticks": ""
             }
            },
            "marker": {
             "colorbar": {
              "outlinewidth": 0,
              "ticks": ""
             }
            },
            "type": "scatter3d"
           }
          ],
          "scattercarpet": [
           {
            "marker": {
             "colorbar": {
              "outlinewidth": 0,
              "ticks": ""
             }
            },
            "type": "scattercarpet"
           }
          ],
          "scattergeo": [
           {
            "marker": {
             "colorbar": {
              "outlinewidth": 0,
              "ticks": ""
             }
            },
            "type": "scattergeo"
           }
          ],
          "scattergl": [
           {
            "marker": {
             "colorbar": {
              "outlinewidth": 0,
              "ticks": ""
             }
            },
            "type": "scattergl"
           }
          ],
          "scattermapbox": [
           {
            "marker": {
             "colorbar": {
              "outlinewidth": 0,
              "ticks": ""
             }
            },
            "type": "scattermapbox"
           }
          ],
          "scatterpolar": [
           {
            "marker": {
             "colorbar": {
              "outlinewidth": 0,
              "ticks": ""
             }
            },
            "type": "scatterpolar"
           }
          ],
          "scatterpolargl": [
           {
            "marker": {
             "colorbar": {
              "outlinewidth": 0,
              "ticks": ""
             }
            },
            "type": "scatterpolargl"
           }
          ],
          "scatterternary": [
           {
            "marker": {
             "colorbar": {
              "outlinewidth": 0,
              "ticks": ""
             }
            },
            "type": "scatterternary"
           }
          ],
          "surface": [
           {
            "colorbar": {
             "outlinewidth": 0,
             "ticks": ""
            },
            "colorscale": [
             [
              0,
              "#0d0887"
             ],
             [
              0.1111111111111111,
              "#46039f"
             ],
             [
              0.2222222222222222,
              "#7201a8"
             ],
             [
              0.3333333333333333,
              "#9c179e"
             ],
             [
              0.4444444444444444,
              "#bd3786"
             ],
             [
              0.5555555555555556,
              "#d8576b"
             ],
             [
              0.6666666666666666,
              "#ed7953"
             ],
             [
              0.7777777777777778,
              "#fb9f3a"
             ],
             [
              0.8888888888888888,
              "#fdca26"
             ],
             [
              1,
              "#f0f921"
             ]
            ],
            "type": "surface"
           }
          ],
          "table": [
           {
            "cells": {
             "fill": {
              "color": "#EBF0F8"
             },
             "line": {
              "color": "white"
             }
            },
            "header": {
             "fill": {
              "color": "#C8D4E3"
             },
             "line": {
              "color": "white"
             }
            },
            "type": "table"
           }
          ]
         },
         "layout": {
          "annotationdefaults": {
           "arrowcolor": "#2a3f5f",
           "arrowhead": 0,
           "arrowwidth": 1
          },
          "autotypenumbers": "strict",
          "coloraxis": {
           "colorbar": {
            "outlinewidth": 0,
            "ticks": ""
           }
          },
          "colorscale": {
           "diverging": [
            [
             0,
             "#8e0152"
            ],
            [
             0.1,
             "#c51b7d"
            ],
            [
             0.2,
             "#de77ae"
            ],
            [
             0.3,
             "#f1b6da"
            ],
            [
             0.4,
             "#fde0ef"
            ],
            [
             0.5,
             "#f7f7f7"
            ],
            [
             0.6,
             "#e6f5d0"
            ],
            [
             0.7,
             "#b8e186"
            ],
            [
             0.8,
             "#7fbc41"
            ],
            [
             0.9,
             "#4d9221"
            ],
            [
             1,
             "#276419"
            ]
           ],
           "sequential": [
            [
             0,
             "#0d0887"
            ],
            [
             0.1111111111111111,
             "#46039f"
            ],
            [
             0.2222222222222222,
             "#7201a8"
            ],
            [
             0.3333333333333333,
             "#9c179e"
            ],
            [
             0.4444444444444444,
             "#bd3786"
            ],
            [
             0.5555555555555556,
             "#d8576b"
            ],
            [
             0.6666666666666666,
             "#ed7953"
            ],
            [
             0.7777777777777778,
             "#fb9f3a"
            ],
            [
             0.8888888888888888,
             "#fdca26"
            ],
            [
             1,
             "#f0f921"
            ]
           ],
           "sequentialminus": [
            [
             0,
             "#0d0887"
            ],
            [
             0.1111111111111111,
             "#46039f"
            ],
            [
             0.2222222222222222,
             "#7201a8"
            ],
            [
             0.3333333333333333,
             "#9c179e"
            ],
            [
             0.4444444444444444,
             "#bd3786"
            ],
            [
             0.5555555555555556,
             "#d8576b"
            ],
            [
             0.6666666666666666,
             "#ed7953"
            ],
            [
             0.7777777777777778,
             "#fb9f3a"
            ],
            [
             0.8888888888888888,
             "#fdca26"
            ],
            [
             1,
             "#f0f921"
            ]
           ]
          },
          "colorway": [
           "#636efa",
           "#EF553B",
           "#00cc96",
           "#ab63fa",
           "#FFA15A",
           "#19d3f3",
           "#FF6692",
           "#B6E880",
           "#FF97FF",
           "#FECB52"
          ],
          "font": {
           "color": "#2a3f5f"
          },
          "geo": {
           "bgcolor": "white",
           "lakecolor": "white",
           "landcolor": "#E5ECF6",
           "showlakes": true,
           "showland": true,
           "subunitcolor": "white"
          },
          "hoverlabel": {
           "align": "left"
          },
          "hovermode": "closest",
          "mapbox": {
           "style": "light"
          },
          "paper_bgcolor": "white",
          "plot_bgcolor": "#E5ECF6",
          "polar": {
           "angularaxis": {
            "gridcolor": "white",
            "linecolor": "white",
            "ticks": ""
           },
           "bgcolor": "#E5ECF6",
           "radialaxis": {
            "gridcolor": "white",
            "linecolor": "white",
            "ticks": ""
           }
          },
          "scene": {
           "xaxis": {
            "backgroundcolor": "#E5ECF6",
            "gridcolor": "white",
            "gridwidth": 2,
            "linecolor": "white",
            "showbackground": true,
            "ticks": "",
            "zerolinecolor": "white"
           },
           "yaxis": {
            "backgroundcolor": "#E5ECF6",
            "gridcolor": "white",
            "gridwidth": 2,
            "linecolor": "white",
            "showbackground": true,
            "ticks": "",
            "zerolinecolor": "white"
           },
           "zaxis": {
            "backgroundcolor": "#E5ECF6",
            "gridcolor": "white",
            "gridwidth": 2,
            "linecolor": "white",
            "showbackground": true,
            "ticks": "",
            "zerolinecolor": "white"
           }
          },
          "shapedefaults": {
           "line": {
            "color": "#2a3f5f"
           }
          },
          "ternary": {
           "aaxis": {
            "gridcolor": "white",
            "linecolor": "white",
            "ticks": ""
           },
           "baxis": {
            "gridcolor": "white",
            "linecolor": "white",
            "ticks": ""
           },
           "bgcolor": "#E5ECF6",
           "caxis": {
            "gridcolor": "white",
            "linecolor": "white",
            "ticks": ""
           }
          },
          "title": {
           "x": 0.05
          },
          "xaxis": {
           "automargin": true,
           "gridcolor": "white",
           "linecolor": "white",
           "ticks": "",
           "title": {
            "standoff": 15
           },
           "zerolinecolor": "white",
           "zerolinewidth": 2
          },
          "yaxis": {
           "automargin": true,
           "gridcolor": "white",
           "linecolor": "white",
           "ticks": "",
           "title": {
            "standoff": 15
           },
           "zerolinecolor": "white",
           "zerolinewidth": 2
          }
         }
        },
        "title": {
         "text": "Top 10 Taxi Companies"
        },
        "xaxis": {
         "anchor": "y",
         "domain": [
          0,
          1
         ],
         "tickangle": 0,
         "title": {
          "text": "Total Trips Completed"
         }
        },
        "yaxis": {
         "anchor": "x",
         "categoryarray": [
          "3556 - 36214 RC Andrews Cab",
          "2241 - 44667 - Felman Corp, Manuel Alonso",
          "5874 - 73628 Sergey Cab Corp.",
          "2733 - 74600 Benny Jona",
          "4053 - 40193 Adwar H. Nikola",
          "5062 - 34841 Sam Mestas",
          "Metro Group",
          "5997 - 65283 AW Services Inc.",
          "6057 - 24657 Richard Addo",
          "2192 - 73487 Zeymane Corp",
          "5006 - 39261 Salifu Bawa",
          "3721 - Santamaria Express, Alvaro Santamaria",
          "4623 - 27290 Jay Kim",
          "2823 - 73307 Lee Express Inc",
          "5074 - 54002 Ahzmi Inc",
          "3623 - 72222 Arrington Enterprises",
          "4615 - 83503 Tyrone Henderson",
          "3620 - 52292 David K. Cab Corp.",
          "3011 - 66308 JBL Cab Inc.",
          "2092 - 61288 Sbeih company",
          "2809 - 95474 C & D Cab Co Inc.",
          "1085 - 72312 N and W Cab Co",
          "Chicago Star Taxicab",
          "6574 - Babylon Express Inc.",
          "0118 - 42111 Godfrey S.Awir",
          "6743 - 78771 Luhak Corp",
          "1469 - 64126 Omar Jada",
          "3591 - 63480 Chuks Cab",
          "6742 - 83735 Tasha ride inc",
          "Norshore Cab",
          "Metro Jet Taxi A",
          "Leonard Cab Co",
          "American United Taxi Affiliation",
          "Setare Inc",
          "303 Taxi",
          "5 Star Taxi",
          "Service Taxi Association",
          "Gold Coast Taxi",
          "Top Cab Affiliation",
          "Chicago Taxicab",
          "KOAM Taxi Association",
          "Chicago Independents",
          "American United",
          "Checker Taxi",
          "Chicago Medallion Leasing INC",
          "24 Seven Taxi",
          "Chicago Medallion Management",
          "Blue Diamond",
          "Checker Taxi Affiliation",
          "Patriot Taxi Dba Peace Taxi Associat",
          "Nova Taxi Affiliation Llc",
          "Dispatch Taxi Affiliation",
          "Globe Taxi",
          "Choice Taxi Association",
          "Blue Ribbon Taxi Association Inc.",
          "Star North Management LLC",
          "Sun Taxi",
          "City Service",
          "Chicago Carriage Cab Corp",
          "Taxi Affiliation Service Yellow",
          "Yellow Cab",
          "Medallion Leasin",
          "Taxi Affiliation Services",
          "Flash Cab"
         ],
         "categoryorder": "array",
         "domain": [
          0,
          1
         ],
         "title": {
          "text": "Company Name"
         }
        }
       }
      }
     },
     "metadata": {},
     "output_type": "display_data"
    }
   ],
   "source": [
    "# Creates bar graph for top 10 companies\n",
    "fig = px.bar(top_10_company , x='trips_amount', y='company_name', \n",
    "             title='Top 10 Taxi Companies',\n",
    "             category_orders={\"company_name\": company_trips['company_name'][::-1]})\n",
    "fig.update_layout(xaxis_title='Total Trips Completed', yaxis_title='Company Name', xaxis_tickangle=0)\n",
    "fig.show()"
   ]
  },
  {
   "cell_type": "markdown",
   "metadata": {},
   "source": [
    "Again, it appears clear that 'Flash Cab' is in it's own league, while the rest of the taxi services are close competition to eachother. "
   ]
  },
  {
   "cell_type": "markdown",
   "metadata": {},
   "source": [
    "### Top 10 Neighborhood Destinations\n"
   ]
  },
  {
   "cell_type": "markdown",
   "metadata": {},
   "source": [
    "\n",
    "**Top 10 Neighborhoods by Number of Dropoffs**\n",
    "<br> \n"
   ]
  },
  {
   "cell_type": "code",
   "execution_count": 14,
   "metadata": {},
   "outputs": [
    {
     "data": {
      "text/html": [
       "<div>\n",
       "<style scoped>\n",
       "    .dataframe tbody tr th:only-of-type {\n",
       "        vertical-align: middle;\n",
       "    }\n",
       "\n",
       "    .dataframe tbody tr th {\n",
       "        vertical-align: top;\n",
       "    }\n",
       "\n",
       "    .dataframe thead th {\n",
       "        text-align: right;\n",
       "    }\n",
       "</style>\n",
       "<table border=\"1\" class=\"dataframe\">\n",
       "  <thead>\n",
       "    <tr style=\"text-align: right;\">\n",
       "      <th></th>\n",
       "      <th>dropoff_location_name</th>\n",
       "      <th>average_trips</th>\n",
       "    </tr>\n",
       "  </thead>\n",
       "  <tbody>\n",
       "    <tr>\n",
       "      <th>0</th>\n",
       "      <td>Loop</td>\n",
       "      <td>10727.47</td>\n",
       "    </tr>\n",
       "    <tr>\n",
       "      <th>1</th>\n",
       "      <td>River North</td>\n",
       "      <td>9523.67</td>\n",
       "    </tr>\n",
       "    <tr>\n",
       "      <th>2</th>\n",
       "      <td>Streeterville</td>\n",
       "      <td>6664.67</td>\n",
       "    </tr>\n",
       "    <tr>\n",
       "      <th>3</th>\n",
       "      <td>West Loop</td>\n",
       "      <td>5163.67</td>\n",
       "    </tr>\n",
       "    <tr>\n",
       "      <th>4</th>\n",
       "      <td>O'Hare</td>\n",
       "      <td>2546.90</td>\n",
       "    </tr>\n",
       "    <tr>\n",
       "      <th>5</th>\n",
       "      <td>Lake View</td>\n",
       "      <td>2420.97</td>\n",
       "    </tr>\n",
       "    <tr>\n",
       "      <th>6</th>\n",
       "      <td>Grant Park</td>\n",
       "      <td>2068.53</td>\n",
       "    </tr>\n",
       "    <tr>\n",
       "      <th>7</th>\n",
       "      <td>Museum Campus</td>\n",
       "      <td>1510.00</td>\n",
       "    </tr>\n",
       "    <tr>\n",
       "      <th>8</th>\n",
       "      <td>Gold Coast</td>\n",
       "      <td>1364.23</td>\n",
       "    </tr>\n",
       "    <tr>\n",
       "      <th>9</th>\n",
       "      <td>Sheffield &amp; DePaul</td>\n",
       "      <td>1259.77</td>\n",
       "    </tr>\n",
       "  </tbody>\n",
       "</table>\n",
       "</div>"
      ],
      "text/plain": [
       "  dropoff_location_name  average_trips\n",
       "0                  Loop       10727.47\n",
       "1           River North        9523.67\n",
       "2         Streeterville        6664.67\n",
       "3             West Loop        5163.67\n",
       "4                O'Hare        2546.90\n",
       "5             Lake View        2420.97\n",
       "6            Grant Park        2068.53\n",
       "7         Museum Campus        1510.00\n",
       "8            Gold Coast        1364.23\n",
       "9    Sheffield & DePaul        1259.77"
      ]
     },
     "execution_count": 14,
     "metadata": {},
     "output_type": "execute_result"
    }
   ],
   "source": [
    "# Top 10 drop-off locations by neighborhood \n",
    "top_10_dropoff = average_trip_location.sort_values(by='average_trips', ascending=False)\n",
    "top_10_dropoff= top_10_dropoff.head(10)\n",
    "top_10_dropoff"
   ]
  },
  {
   "cell_type": "code",
   "execution_count": 15,
   "metadata": {},
   "outputs": [
    {
     "data": {
      "application/vnd.plotly.v1+json": {
       "config": {
        "plotlyServerURL": "https://plot.ly"
       },
       "data": [
        {
         "alignmentgroup": "True",
         "hovertemplate": "average_trips=%{x}<br>dropoff_location_name=%{y}<extra></extra>",
         "legendgroup": "",
         "marker": {
          "color": "#636efa",
          "pattern": {
           "shape": ""
          }
         },
         "name": "",
         "offsetgroup": "",
         "orientation": "h",
         "showlegend": false,
         "textposition": "auto",
         "type": "bar",
         "x": [
          10727.47,
          9523.67,
          6664.67,
          5163.67,
          2546.9,
          2420.97,
          2068.53,
          1510,
          1364.23,
          1259.77
         ],
         "xaxis": "x",
         "y": [
          "Loop",
          "River North",
          "Streeterville",
          "West Loop",
          "O'Hare",
          "Lake View",
          "Grant Park",
          "Museum Campus",
          "Gold Coast",
          "Sheffield & DePaul"
         ],
         "yaxis": "y"
        }
       ],
       "layout": {
        "barmode": "relative",
        "height": 600,
        "legend": {
         "tracegroupgap": 0
        },
        "template": {
         "data": {
          "bar": [
           {
            "error_x": {
             "color": "#2a3f5f"
            },
            "error_y": {
             "color": "#2a3f5f"
            },
            "marker": {
             "line": {
              "color": "#E5ECF6",
              "width": 0.5
             },
             "pattern": {
              "fillmode": "overlay",
              "size": 10,
              "solidity": 0.2
             }
            },
            "type": "bar"
           }
          ],
          "barpolar": [
           {
            "marker": {
             "line": {
              "color": "#E5ECF6",
              "width": 0.5
             },
             "pattern": {
              "fillmode": "overlay",
              "size": 10,
              "solidity": 0.2
             }
            },
            "type": "barpolar"
           }
          ],
          "carpet": [
           {
            "aaxis": {
             "endlinecolor": "#2a3f5f",
             "gridcolor": "white",
             "linecolor": "white",
             "minorgridcolor": "white",
             "startlinecolor": "#2a3f5f"
            },
            "baxis": {
             "endlinecolor": "#2a3f5f",
             "gridcolor": "white",
             "linecolor": "white",
             "minorgridcolor": "white",
             "startlinecolor": "#2a3f5f"
            },
            "type": "carpet"
           }
          ],
          "choropleth": [
           {
            "colorbar": {
             "outlinewidth": 0,
             "ticks": ""
            },
            "type": "choropleth"
           }
          ],
          "contour": [
           {
            "colorbar": {
             "outlinewidth": 0,
             "ticks": ""
            },
            "colorscale": [
             [
              0,
              "#0d0887"
             ],
             [
              0.1111111111111111,
              "#46039f"
             ],
             [
              0.2222222222222222,
              "#7201a8"
             ],
             [
              0.3333333333333333,
              "#9c179e"
             ],
             [
              0.4444444444444444,
              "#bd3786"
             ],
             [
              0.5555555555555556,
              "#d8576b"
             ],
             [
              0.6666666666666666,
              "#ed7953"
             ],
             [
              0.7777777777777778,
              "#fb9f3a"
             ],
             [
              0.8888888888888888,
              "#fdca26"
             ],
             [
              1,
              "#f0f921"
             ]
            ],
            "type": "contour"
           }
          ],
          "contourcarpet": [
           {
            "colorbar": {
             "outlinewidth": 0,
             "ticks": ""
            },
            "type": "contourcarpet"
           }
          ],
          "heatmap": [
           {
            "colorbar": {
             "outlinewidth": 0,
             "ticks": ""
            },
            "colorscale": [
             [
              0,
              "#0d0887"
             ],
             [
              0.1111111111111111,
              "#46039f"
             ],
             [
              0.2222222222222222,
              "#7201a8"
             ],
             [
              0.3333333333333333,
              "#9c179e"
             ],
             [
              0.4444444444444444,
              "#bd3786"
             ],
             [
              0.5555555555555556,
              "#d8576b"
             ],
             [
              0.6666666666666666,
              "#ed7953"
             ],
             [
              0.7777777777777778,
              "#fb9f3a"
             ],
             [
              0.8888888888888888,
              "#fdca26"
             ],
             [
              1,
              "#f0f921"
             ]
            ],
            "type": "heatmap"
           }
          ],
          "heatmapgl": [
           {
            "colorbar": {
             "outlinewidth": 0,
             "ticks": ""
            },
            "colorscale": [
             [
              0,
              "#0d0887"
             ],
             [
              0.1111111111111111,
              "#46039f"
             ],
             [
              0.2222222222222222,
              "#7201a8"
             ],
             [
              0.3333333333333333,
              "#9c179e"
             ],
             [
              0.4444444444444444,
              "#bd3786"
             ],
             [
              0.5555555555555556,
              "#d8576b"
             ],
             [
              0.6666666666666666,
              "#ed7953"
             ],
             [
              0.7777777777777778,
              "#fb9f3a"
             ],
             [
              0.8888888888888888,
              "#fdca26"
             ],
             [
              1,
              "#f0f921"
             ]
            ],
            "type": "heatmapgl"
           }
          ],
          "histogram": [
           {
            "marker": {
             "pattern": {
              "fillmode": "overlay",
              "size": 10,
              "solidity": 0.2
             }
            },
            "type": "histogram"
           }
          ],
          "histogram2d": [
           {
            "colorbar": {
             "outlinewidth": 0,
             "ticks": ""
            },
            "colorscale": [
             [
              0,
              "#0d0887"
             ],
             [
              0.1111111111111111,
              "#46039f"
             ],
             [
              0.2222222222222222,
              "#7201a8"
             ],
             [
              0.3333333333333333,
              "#9c179e"
             ],
             [
              0.4444444444444444,
              "#bd3786"
             ],
             [
              0.5555555555555556,
              "#d8576b"
             ],
             [
              0.6666666666666666,
              "#ed7953"
             ],
             [
              0.7777777777777778,
              "#fb9f3a"
             ],
             [
              0.8888888888888888,
              "#fdca26"
             ],
             [
              1,
              "#f0f921"
             ]
            ],
            "type": "histogram2d"
           }
          ],
          "histogram2dcontour": [
           {
            "colorbar": {
             "outlinewidth": 0,
             "ticks": ""
            },
            "colorscale": [
             [
              0,
              "#0d0887"
             ],
             [
              0.1111111111111111,
              "#46039f"
             ],
             [
              0.2222222222222222,
              "#7201a8"
             ],
             [
              0.3333333333333333,
              "#9c179e"
             ],
             [
              0.4444444444444444,
              "#bd3786"
             ],
             [
              0.5555555555555556,
              "#d8576b"
             ],
             [
              0.6666666666666666,
              "#ed7953"
             ],
             [
              0.7777777777777778,
              "#fb9f3a"
             ],
             [
              0.8888888888888888,
              "#fdca26"
             ],
             [
              1,
              "#f0f921"
             ]
            ],
            "type": "histogram2dcontour"
           }
          ],
          "mesh3d": [
           {
            "colorbar": {
             "outlinewidth": 0,
             "ticks": ""
            },
            "type": "mesh3d"
           }
          ],
          "parcoords": [
           {
            "line": {
             "colorbar": {
              "outlinewidth": 0,
              "ticks": ""
             }
            },
            "type": "parcoords"
           }
          ],
          "pie": [
           {
            "automargin": true,
            "type": "pie"
           }
          ],
          "scatter": [
           {
            "fillpattern": {
             "fillmode": "overlay",
             "size": 10,
             "solidity": 0.2
            },
            "type": "scatter"
           }
          ],
          "scatter3d": [
           {
            "line": {
             "colorbar": {
              "outlinewidth": 0,
              "ticks": ""
             }
            },
            "marker": {
             "colorbar": {
              "outlinewidth": 0,
              "ticks": ""
             }
            },
            "type": "scatter3d"
           }
          ],
          "scattercarpet": [
           {
            "marker": {
             "colorbar": {
              "outlinewidth": 0,
              "ticks": ""
             }
            },
            "type": "scattercarpet"
           }
          ],
          "scattergeo": [
           {
            "marker": {
             "colorbar": {
              "outlinewidth": 0,
              "ticks": ""
             }
            },
            "type": "scattergeo"
           }
          ],
          "scattergl": [
           {
            "marker": {
             "colorbar": {
              "outlinewidth": 0,
              "ticks": ""
             }
            },
            "type": "scattergl"
           }
          ],
          "scattermapbox": [
           {
            "marker": {
             "colorbar": {
              "outlinewidth": 0,
              "ticks": ""
             }
            },
            "type": "scattermapbox"
           }
          ],
          "scatterpolar": [
           {
            "marker": {
             "colorbar": {
              "outlinewidth": 0,
              "ticks": ""
             }
            },
            "type": "scatterpolar"
           }
          ],
          "scatterpolargl": [
           {
            "marker": {
             "colorbar": {
              "outlinewidth": 0,
              "ticks": ""
             }
            },
            "type": "scatterpolargl"
           }
          ],
          "scatterternary": [
           {
            "marker": {
             "colorbar": {
              "outlinewidth": 0,
              "ticks": ""
             }
            },
            "type": "scatterternary"
           }
          ],
          "surface": [
           {
            "colorbar": {
             "outlinewidth": 0,
             "ticks": ""
            },
            "colorscale": [
             [
              0,
              "#0d0887"
             ],
             [
              0.1111111111111111,
              "#46039f"
             ],
             [
              0.2222222222222222,
              "#7201a8"
             ],
             [
              0.3333333333333333,
              "#9c179e"
             ],
             [
              0.4444444444444444,
              "#bd3786"
             ],
             [
              0.5555555555555556,
              "#d8576b"
             ],
             [
              0.6666666666666666,
              "#ed7953"
             ],
             [
              0.7777777777777778,
              "#fb9f3a"
             ],
             [
              0.8888888888888888,
              "#fdca26"
             ],
             [
              1,
              "#f0f921"
             ]
            ],
            "type": "surface"
           }
          ],
          "table": [
           {
            "cells": {
             "fill": {
              "color": "#EBF0F8"
             },
             "line": {
              "color": "white"
             }
            },
            "header": {
             "fill": {
              "color": "#C8D4E3"
             },
             "line": {
              "color": "white"
             }
            },
            "type": "table"
           }
          ]
         },
         "layout": {
          "annotationdefaults": {
           "arrowcolor": "#2a3f5f",
           "arrowhead": 0,
           "arrowwidth": 1
          },
          "autotypenumbers": "strict",
          "coloraxis": {
           "colorbar": {
            "outlinewidth": 0,
            "ticks": ""
           }
          },
          "colorscale": {
           "diverging": [
            [
             0,
             "#8e0152"
            ],
            [
             0.1,
             "#c51b7d"
            ],
            [
             0.2,
             "#de77ae"
            ],
            [
             0.3,
             "#f1b6da"
            ],
            [
             0.4,
             "#fde0ef"
            ],
            [
             0.5,
             "#f7f7f7"
            ],
            [
             0.6,
             "#e6f5d0"
            ],
            [
             0.7,
             "#b8e186"
            ],
            [
             0.8,
             "#7fbc41"
            ],
            [
             0.9,
             "#4d9221"
            ],
            [
             1,
             "#276419"
            ]
           ],
           "sequential": [
            [
             0,
             "#0d0887"
            ],
            [
             0.1111111111111111,
             "#46039f"
            ],
            [
             0.2222222222222222,
             "#7201a8"
            ],
            [
             0.3333333333333333,
             "#9c179e"
            ],
            [
             0.4444444444444444,
             "#bd3786"
            ],
            [
             0.5555555555555556,
             "#d8576b"
            ],
            [
             0.6666666666666666,
             "#ed7953"
            ],
            [
             0.7777777777777778,
             "#fb9f3a"
            ],
            [
             0.8888888888888888,
             "#fdca26"
            ],
            [
             1,
             "#f0f921"
            ]
           ],
           "sequentialminus": [
            [
             0,
             "#0d0887"
            ],
            [
             0.1111111111111111,
             "#46039f"
            ],
            [
             0.2222222222222222,
             "#7201a8"
            ],
            [
             0.3333333333333333,
             "#9c179e"
            ],
            [
             0.4444444444444444,
             "#bd3786"
            ],
            [
             0.5555555555555556,
             "#d8576b"
            ],
            [
             0.6666666666666666,
             "#ed7953"
            ],
            [
             0.7777777777777778,
             "#fb9f3a"
            ],
            [
             0.8888888888888888,
             "#fdca26"
            ],
            [
             1,
             "#f0f921"
            ]
           ]
          },
          "colorway": [
           "#636efa",
           "#EF553B",
           "#00cc96",
           "#ab63fa",
           "#FFA15A",
           "#19d3f3",
           "#FF6692",
           "#B6E880",
           "#FF97FF",
           "#FECB52"
          ],
          "font": {
           "color": "#2a3f5f"
          },
          "geo": {
           "bgcolor": "white",
           "lakecolor": "white",
           "landcolor": "#E5ECF6",
           "showlakes": true,
           "showland": true,
           "subunitcolor": "white"
          },
          "hoverlabel": {
           "align": "left"
          },
          "hovermode": "closest",
          "mapbox": {
           "style": "light"
          },
          "paper_bgcolor": "white",
          "plot_bgcolor": "#E5ECF6",
          "polar": {
           "angularaxis": {
            "gridcolor": "white",
            "linecolor": "white",
            "ticks": ""
           },
           "bgcolor": "#E5ECF6",
           "radialaxis": {
            "gridcolor": "white",
            "linecolor": "white",
            "ticks": ""
           }
          },
          "scene": {
           "xaxis": {
            "backgroundcolor": "#E5ECF6",
            "gridcolor": "white",
            "gridwidth": 2,
            "linecolor": "white",
            "showbackground": true,
            "ticks": "",
            "zerolinecolor": "white"
           },
           "yaxis": {
            "backgroundcolor": "#E5ECF6",
            "gridcolor": "white",
            "gridwidth": 2,
            "linecolor": "white",
            "showbackground": true,
            "ticks": "",
            "zerolinecolor": "white"
           },
           "zaxis": {
            "backgroundcolor": "#E5ECF6",
            "gridcolor": "white",
            "gridwidth": 2,
            "linecolor": "white",
            "showbackground": true,
            "ticks": "",
            "zerolinecolor": "white"
           }
          },
          "shapedefaults": {
           "line": {
            "color": "#2a3f5f"
           }
          },
          "ternary": {
           "aaxis": {
            "gridcolor": "white",
            "linecolor": "white",
            "ticks": ""
           },
           "baxis": {
            "gridcolor": "white",
            "linecolor": "white",
            "ticks": ""
           },
           "bgcolor": "#E5ECF6",
           "caxis": {
            "gridcolor": "white",
            "linecolor": "white",
            "ticks": ""
           }
          },
          "title": {
           "x": 0.05
          },
          "xaxis": {
           "automargin": true,
           "gridcolor": "white",
           "linecolor": "white",
           "ticks": "",
           "title": {
            "standoff": 15
           },
           "zerolinecolor": "white",
           "zerolinewidth": 2
          },
          "yaxis": {
           "automargin": true,
           "gridcolor": "white",
           "linecolor": "white",
           "ticks": "",
           "title": {
            "standoff": 15
           },
           "zerolinecolor": "white",
           "zerolinewidth": 2
          }
         }
        },
        "title": {
         "text": "Top 10 Neighborhood Destinations"
        },
        "width": 800,
        "xaxis": {
         "anchor": "y",
         "domain": [
          0,
          1
         ],
         "tickangle": 0,
         "title": {
          "text": "Average Trips Completed"
         }
        },
        "yaxis": {
         "anchor": "x",
         "categoryarray": [
          "Sheffield & DePaul",
          "Gold Coast",
          "Museum Campus",
          "Grant Park",
          "Lake View",
          "O'Hare",
          "West Loop",
          "Streeterville",
          "River North",
          "Loop"
         ],
         "categoryorder": "array",
         "domain": [
          0,
          1
         ],
         "title": {
          "text": "Drop Off Locations"
         }
        }
       }
      }
     },
     "metadata": {},
     "output_type": "display_data"
    }
   ],
   "source": [
    "# Creates bar graph for top 10 drop offs\n",
    "fig = px.bar(top_10_dropoff, x='average_trips', y='dropoff_location_name', \n",
    "             title='Top 10 Neighborhood Destinations',\n",
    "             category_orders={\"dropoff_location_name\": top_10_dropoff['dropoff_location_name'][::-1]})\n",
    "fig.update_layout(width=800, height=600, xaxis_title='Average Trips Completed', yaxis_title='Drop Off Locations', xaxis_tickangle=0)\n",
    "fig.show()\n"
   ]
  },
  {
   "cell_type": "markdown",
   "metadata": {},
   "source": [
    "**Top Neighborhood Destinations** \n",
    "\n",
    "#1  Loop\n",
    "\n",
    "#2 River North\n",
    "\n",
    "#3 Streeterville\n",
    "\n",
    "#4 West Loop\n",
    "\n",
    "<br>\n",
    "\n",
    "After the top 4 destinations listed above, there is a significant drop in trip totals for all following neighborhoods. This means that the top 4 are especially popular. It was suprising to see that O'Hare- the airport destination is not higher on the list, but this might be because certain commuter locations may be more popular for everyday taxi rides. "
   ]
  },
  {
   "cell_type": "markdown",
   "metadata": {},
   "source": [
    "# Step 5: Testing hypotheses (Python)\n",
    "\n",
    "The last dataset used will be the result of the final SQL query and contains data on rides from the Loop to O'Hare International Airport. \n",
    "\n",
    "<br>\n",
    "\n",
    "The table's field values are:\n",
    "\n",
    "start_ts- This is the pickup date and time\n",
    "\n",
    "weather_conditions- The weather conditions at the moment the ride started\n",
    "\n",
    "duration_seconds- The ride duration in seconds"
   ]
  },
  {
   "cell_type": "markdown",
   "metadata": {},
   "source": [
    "## Importing and Data Cleaning  "
   ]
  },
  {
   "cell_type": "code",
   "execution_count": 16,
   "metadata": {},
   "outputs": [
    {
     "data": {
      "text/html": [
       "<div>\n",
       "<style scoped>\n",
       "    .dataframe tbody tr th:only-of-type {\n",
       "        vertical-align: middle;\n",
       "    }\n",
       "\n",
       "    .dataframe tbody tr th {\n",
       "        vertical-align: top;\n",
       "    }\n",
       "\n",
       "    .dataframe thead th {\n",
       "        text-align: right;\n",
       "    }\n",
       "</style>\n",
       "<table border=\"1\" class=\"dataframe\">\n",
       "  <thead>\n",
       "    <tr style=\"text-align: right;\">\n",
       "      <th></th>\n",
       "      <th>start_ts</th>\n",
       "      <th>weather_conditions</th>\n",
       "      <th>duration_seconds</th>\n",
       "    </tr>\n",
       "  </thead>\n",
       "  <tbody>\n",
       "    <tr>\n",
       "      <th>71</th>\n",
       "      <td>2017-11-11 08:00:00</td>\n",
       "      <td>Good</td>\n",
       "      <td>1140.0</td>\n",
       "    </tr>\n",
       "    <tr>\n",
       "      <th>146</th>\n",
       "      <td>2017-11-11 14:00:00</td>\n",
       "      <td>Good</td>\n",
       "      <td>2340.0</td>\n",
       "    </tr>\n",
       "    <tr>\n",
       "      <th>413</th>\n",
       "      <td>2017-11-11 04:00:00</td>\n",
       "      <td>Good</td>\n",
       "      <td>1219.0</td>\n",
       "    </tr>\n",
       "    <tr>\n",
       "      <th>719</th>\n",
       "      <td>2017-11-18 12:00:00</td>\n",
       "      <td>Bad</td>\n",
       "      <td>3600.0</td>\n",
       "    </tr>\n",
       "    <tr>\n",
       "      <th>602</th>\n",
       "      <td>2017-11-11 16:00:00</td>\n",
       "      <td>Good</td>\n",
       "      <td>2220.0</td>\n",
       "    </tr>\n",
       "    <tr>\n",
       "      <th>939</th>\n",
       "      <td>2017-11-11 07:00:00</td>\n",
       "      <td>Good</td>\n",
       "      <td>1425.0</td>\n",
       "    </tr>\n",
       "    <tr>\n",
       "      <th>1062</th>\n",
       "      <td>2017-11-11 06:00:00</td>\n",
       "      <td>Good</td>\n",
       "      <td>1500.0</td>\n",
       "    </tr>\n",
       "    <tr>\n",
       "      <th>956</th>\n",
       "      <td>2017-11-04 10:00:00</td>\n",
       "      <td>Good</td>\n",
       "      <td>2460.0</td>\n",
       "    </tr>\n",
       "    <tr>\n",
       "      <th>841</th>\n",
       "      <td>2017-11-04 12:00:00</td>\n",
       "      <td>Good</td>\n",
       "      <td>2520.0</td>\n",
       "    </tr>\n",
       "    <tr>\n",
       "      <th>588</th>\n",
       "      <td>2017-11-04 18:00:00</td>\n",
       "      <td>Bad</td>\n",
       "      <td>2580.0</td>\n",
       "    </tr>\n",
       "  </tbody>\n",
       "</table>\n",
       "</div>"
      ],
      "text/plain": [
       "                 start_ts weather_conditions  duration_seconds\n",
       "71    2017-11-11 08:00:00               Good            1140.0\n",
       "146   2017-11-11 14:00:00               Good            2340.0\n",
       "413   2017-11-11 04:00:00               Good            1219.0\n",
       "719   2017-11-18 12:00:00                Bad            3600.0\n",
       "602   2017-11-11 16:00:00               Good            2220.0\n",
       "939   2017-11-11 07:00:00               Good            1425.0\n",
       "1062  2017-11-11 06:00:00               Good            1500.0\n",
       "956   2017-11-04 10:00:00               Good            2460.0\n",
       "841   2017-11-04 12:00:00               Good            2520.0\n",
       "588   2017-11-04 18:00:00                Bad            2580.0"
      ]
     },
     "execution_count": 16,
     "metadata": {},
     "output_type": "execute_result"
    }
   ],
   "source": [
    "# Imports data \n",
    "loop_to_airport = pd.read_csv('moved_project_sql_result_07.csv')\n",
    "loop_to_airport.sample(10)"
   ]
  },
  {
   "cell_type": "markdown",
   "metadata": {},
   "source": [
    "From this sample, it appears that the column 'start_ts' only shows the hour of pickup, although the current format suggests that it has the information up to seconds. The column may not be set to date time. The name of the column could also be changed for clarity. \n",
    "\n",
    "The 'weather_conditions' column looks great so far. \n",
    "\n",
    "The 'duration_seconds'column could be simplified to just integers instead of float."
   ]
  },
  {
   "cell_type": "code",
   "execution_count": 17,
   "metadata": {},
   "outputs": [
    {
     "name": "stdout",
     "output_type": "stream",
     "text": [
      "<class 'pandas.core.frame.DataFrame'>\n",
      "RangeIndex: 1068 entries, 0 to 1067\n",
      "Data columns (total 3 columns):\n",
      " #   Column              Non-Null Count  Dtype  \n",
      "---  ------              --------------  -----  \n",
      " 0   start_ts            1068 non-null   object \n",
      " 1   weather_conditions  1068 non-null   object \n",
      " 2   duration_seconds    1068 non-null   float64\n",
      "dtypes: float64(1), object(2)\n",
      "memory usage: 25.2+ KB\n"
     ]
    }
   ],
   "source": [
    "# Check dataframe information \n",
    "loop_to_airport.info()"
   ]
  },
  {
   "cell_type": "code",
   "execution_count": 18,
   "metadata": {},
   "outputs": [],
   "source": [
    "# Making changes to dataframe columns\n",
    "loop_to_airport['duration_seconds'] = loop_to_airport['duration_seconds'].astype(int)\n",
    "\n",
    "# Renaming and changing data type to show clear pickup time\n",
    "loop_to_airport = loop_to_airport.rename(columns={'start_ts': 'pickup_date_time'})\n",
    "loop_to_airport['pickup_date_time'] = pd.to_datetime(loop_to_airport['pickup_date_time']) "
   ]
  },
  {
   "cell_type": "code",
   "execution_count": 19,
   "metadata": {},
   "outputs": [
    {
     "name": "stdout",
     "output_type": "stream",
     "text": [
      "<class 'pandas.core.frame.DataFrame'>\n",
      "RangeIndex: 1068 entries, 0 to 1067\n",
      "Data columns (total 3 columns):\n",
      " #   Column              Non-Null Count  Dtype         \n",
      "---  ------              --------------  -----         \n",
      " 0   pickup_date_time    1068 non-null   datetime64[ns]\n",
      " 1   weather_conditions  1068 non-null   object        \n",
      " 2   duration_seconds    1068 non-null   int64         \n",
      "dtypes: datetime64[ns](1), int64(1), object(1)\n",
      "memory usage: 25.2+ KB\n"
     ]
    }
   ],
   "source": [
    "# Confirming changes \n",
    "loop_to_airport.info()"
   ]
  },
  {
   "cell_type": "markdown",
   "metadata": {},
   "source": [
    "### Filtering Data by Day of Week = Saturday \n",
    "\n",
    "In this section we will only work with data from the Loop to Airport Saturdays in November 2017. \n",
    "<br>\n",
    "Those Saturdays are Novemeber: the 4th, 11, 18 and 25."
   ]
  },
  {
   "cell_type": "code",
   "execution_count": 20,
   "metadata": {},
   "outputs": [
    {
     "data": {
      "text/html": [
       "<div>\n",
       "<style scoped>\n",
       "    .dataframe tbody tr th:only-of-type {\n",
       "        vertical-align: middle;\n",
       "    }\n",
       "\n",
       "    .dataframe tbody tr th {\n",
       "        vertical-align: top;\n",
       "    }\n",
       "\n",
       "    .dataframe thead th {\n",
       "        text-align: right;\n",
       "    }\n",
       "</style>\n",
       "<table border=\"1\" class=\"dataframe\">\n",
       "  <thead>\n",
       "    <tr style=\"text-align: right;\">\n",
       "      <th></th>\n",
       "      <th>pickup_date_time</th>\n",
       "      <th>weather_conditions</th>\n",
       "      <th>duration_seconds</th>\n",
       "    </tr>\n",
       "  </thead>\n",
       "  <tbody>\n",
       "    <tr>\n",
       "      <th>0</th>\n",
       "      <td>2017-11-25 16:00:00</td>\n",
       "      <td>Good</td>\n",
       "      <td>2410</td>\n",
       "    </tr>\n",
       "    <tr>\n",
       "      <th>1</th>\n",
       "      <td>2017-11-25 14:00:00</td>\n",
       "      <td>Good</td>\n",
       "      <td>1920</td>\n",
       "    </tr>\n",
       "    <tr>\n",
       "      <th>2</th>\n",
       "      <td>2017-11-25 12:00:00</td>\n",
       "      <td>Good</td>\n",
       "      <td>1543</td>\n",
       "    </tr>\n",
       "    <tr>\n",
       "      <th>3</th>\n",
       "      <td>2017-11-04 10:00:00</td>\n",
       "      <td>Good</td>\n",
       "      <td>2512</td>\n",
       "    </tr>\n",
       "    <tr>\n",
       "      <th>4</th>\n",
       "      <td>2017-11-11 07:00:00</td>\n",
       "      <td>Good</td>\n",
       "      <td>1440</td>\n",
       "    </tr>\n",
       "    <tr>\n",
       "      <th>...</th>\n",
       "      <td>...</td>\n",
       "      <td>...</td>\n",
       "      <td>...</td>\n",
       "    </tr>\n",
       "    <tr>\n",
       "      <th>1063</th>\n",
       "      <td>2017-11-25 11:00:00</td>\n",
       "      <td>Good</td>\n",
       "      <td>0</td>\n",
       "    </tr>\n",
       "    <tr>\n",
       "      <th>1064</th>\n",
       "      <td>2017-11-11 10:00:00</td>\n",
       "      <td>Good</td>\n",
       "      <td>1318</td>\n",
       "    </tr>\n",
       "    <tr>\n",
       "      <th>1065</th>\n",
       "      <td>2017-11-11 13:00:00</td>\n",
       "      <td>Good</td>\n",
       "      <td>2100</td>\n",
       "    </tr>\n",
       "    <tr>\n",
       "      <th>1066</th>\n",
       "      <td>2017-11-11 08:00:00</td>\n",
       "      <td>Good</td>\n",
       "      <td>1380</td>\n",
       "    </tr>\n",
       "    <tr>\n",
       "      <th>1067</th>\n",
       "      <td>2017-11-04 16:00:00</td>\n",
       "      <td>Bad</td>\n",
       "      <td>2834</td>\n",
       "    </tr>\n",
       "  </tbody>\n",
       "</table>\n",
       "<p>1068 rows × 3 columns</p>\n",
       "</div>"
      ],
      "text/plain": [
       "        pickup_date_time weather_conditions  duration_seconds\n",
       "0    2017-11-25 16:00:00               Good              2410\n",
       "1    2017-11-25 14:00:00               Good              1920\n",
       "2    2017-11-25 12:00:00               Good              1543\n",
       "3    2017-11-04 10:00:00               Good              2512\n",
       "4    2017-11-11 07:00:00               Good              1440\n",
       "...                  ...                ...               ...\n",
       "1063 2017-11-25 11:00:00               Good                 0\n",
       "1064 2017-11-11 10:00:00               Good              1318\n",
       "1065 2017-11-11 13:00:00               Good              2100\n",
       "1066 2017-11-11 08:00:00               Good              1380\n",
       "1067 2017-11-04 16:00:00                Bad              2834\n",
       "\n",
       "[1068 rows x 3 columns]"
      ]
     },
     "execution_count": 20,
     "metadata": {},
     "output_type": "execute_result"
    }
   ],
   "source": [
    "# Filters for Saturdays in November 2017\n",
    "saturday_rides = loop_to_airport[loop_to_airport['pickup_date_time'].dt.dayofweek == 5]\n",
    "saturday_rides"
   ]
  },
  {
   "cell_type": "code",
   "execution_count": 21,
   "metadata": {},
   "outputs": [
    {
     "data": {
      "text/html": [
       "<div>\n",
       "<style scoped>\n",
       "    .dataframe tbody tr th:only-of-type {\n",
       "        vertical-align: middle;\n",
       "    }\n",
       "\n",
       "    .dataframe tbody tr th {\n",
       "        vertical-align: top;\n",
       "    }\n",
       "\n",
       "    .dataframe thead th {\n",
       "        text-align: right;\n",
       "    }\n",
       "</style>\n",
       "<table border=\"1\" class=\"dataframe\">\n",
       "  <thead>\n",
       "    <tr style=\"text-align: right;\">\n",
       "      <th></th>\n",
       "      <th>pickup_date_time</th>\n",
       "      <th>weather_conditions</th>\n",
       "      <th>duration_seconds</th>\n",
       "    </tr>\n",
       "  </thead>\n",
       "  <tbody>\n",
       "    <tr>\n",
       "      <th>772</th>\n",
       "      <td>2017-11-18 08:00:00</td>\n",
       "      <td>Bad</td>\n",
       "      <td>1260</td>\n",
       "    </tr>\n",
       "    <tr>\n",
       "      <th>521</th>\n",
       "      <td>2017-11-04 15:00:00</td>\n",
       "      <td>Good</td>\n",
       "      <td>3351</td>\n",
       "    </tr>\n",
       "    <tr>\n",
       "      <th>781</th>\n",
       "      <td>2017-11-11 12:00:00</td>\n",
       "      <td>Good</td>\n",
       "      <td>1993</td>\n",
       "    </tr>\n",
       "    <tr>\n",
       "      <th>20</th>\n",
       "      <td>2017-11-11 13:00:00</td>\n",
       "      <td>Good</td>\n",
       "      <td>2250</td>\n",
       "    </tr>\n",
       "    <tr>\n",
       "      <th>513</th>\n",
       "      <td>2017-11-04 14:00:00</td>\n",
       "      <td>Good</td>\n",
       "      <td>3286</td>\n",
       "    </tr>\n",
       "    <tr>\n",
       "      <th>620</th>\n",
       "      <td>2017-11-11 10:00:00</td>\n",
       "      <td>Good</td>\n",
       "      <td>1200</td>\n",
       "    </tr>\n",
       "    <tr>\n",
       "      <th>55</th>\n",
       "      <td>2017-11-25 14:00:00</td>\n",
       "      <td>Good</td>\n",
       "      <td>1620</td>\n",
       "    </tr>\n",
       "    <tr>\n",
       "      <th>65</th>\n",
       "      <td>2017-11-04 18:00:00</td>\n",
       "      <td>Bad</td>\n",
       "      <td>2363</td>\n",
       "    </tr>\n",
       "    <tr>\n",
       "      <th>660</th>\n",
       "      <td>2017-11-11 07:00:00</td>\n",
       "      <td>Good</td>\n",
       "      <td>1355</td>\n",
       "    </tr>\n",
       "    <tr>\n",
       "      <th>653</th>\n",
       "      <td>2017-11-11 10:00:00</td>\n",
       "      <td>Good</td>\n",
       "      <td>1516</td>\n",
       "    </tr>\n",
       "  </tbody>\n",
       "</table>\n",
       "</div>"
      ],
      "text/plain": [
       "       pickup_date_time weather_conditions  duration_seconds\n",
       "772 2017-11-18 08:00:00                Bad              1260\n",
       "521 2017-11-04 15:00:00               Good              3351\n",
       "781 2017-11-11 12:00:00               Good              1993\n",
       "20  2017-11-11 13:00:00               Good              2250\n",
       "513 2017-11-04 14:00:00               Good              3286\n",
       "620 2017-11-11 10:00:00               Good              1200\n",
       "55  2017-11-25 14:00:00               Good              1620\n",
       "65  2017-11-04 18:00:00                Bad              2363\n",
       "660 2017-11-11 07:00:00               Good              1355\n",
       "653 2017-11-11 10:00:00               Good              1516"
      ]
     },
     "execution_count": 21,
     "metadata": {},
     "output_type": "execute_result"
    }
   ],
   "source": [
    "# Checking that the Saturday dataframe is clear \n",
    "saturday_rides.sample(10)"
   ]
  },
  {
   "cell_type": "markdown",
   "metadata": {},
   "source": [
    "### Preparing Data for Tests "
   ]
  },
  {
   "cell_type": "code",
   "execution_count": 22,
   "metadata": {},
   "outputs": [],
   "source": [
    "# Splitting data up into bad and good weather by  weather_condition and duration_seconds \n",
    "no_rain_saturdays = saturday_rides[saturday_rides['weather_conditions'] == 'Good']['duration_seconds']\n",
    "\n",
    "rain_saturdays = saturday_rides[saturday_rides['weather_conditions'] == 'Bad']['duration_seconds']"
   ]
  },
  {
   "cell_type": "markdown",
   "metadata": {},
   "source": [
    "Identifying the variance first to determine the alpha level for testing:"
   ]
  },
  {
   "cell_type": "code",
   "execution_count": 23,
   "metadata": {
    "scrolled": true
   },
   "outputs": [
    {
     "name": "stdout",
     "output_type": "stream",
     "text": [
      "The variance of Saturdays with no rain is 576382.0096895089\n",
      "The variance of rainy Saturdays is: 520294.0860024826\n"
     ]
    },
    {
     "data": {
      "text/plain": [
       "LeveneResult(statistic=0.38853489683656073, pvalue=0.5332038671974493)"
      ]
     },
     "execution_count": 23,
     "metadata": {},
     "output_type": "execute_result"
    }
   ],
   "source": [
    "# Checking Indivudal variances\n",
    "no_rain_var = no_rain_saturdays.var()\n",
    "rain_var = rain_saturdays.var()\n",
    "\n",
    "print(f'The variance of Saturdays with no rain is {no_rain_var}')\n",
    "print(f'The variance of rainy Saturdays is: {rain_var}')\n",
    "# Levene's test for variance comparison\n",
    "levene_test = stats.levene(rain_saturdays, no_rain_saturdays)\n",
    "levene_test"
   ]
  },
  {
   "cell_type": "markdown",
   "metadata": {},
   "source": [
    "Although the variance is higher for Saturdays with no rain, the difference between the two variances doesn't seem significant. \n",
    "\n",
    "The p-value of the Levene test is larger than the typical significance level of 0.05. Therefore, we can assume equal variances for now during testing."
   ]
  },
  {
   "cell_type": "code",
   "execution_count": 24,
   "metadata": {
    "scrolled": true
   },
   "outputs": [
    {
     "data": {
      "text/plain": [
       "count     888.000000\n",
       "mean     1999.675676\n",
       "std       759.198268\n",
       "min         0.000000\n",
       "25%      1389.750000\n",
       "50%      1800.000000\n",
       "75%      2460.000000\n",
       "max      7440.000000\n",
       "Name: duration_seconds, dtype: float64"
      ]
     },
     "execution_count": 24,
     "metadata": {},
     "output_type": "execute_result"
    }
   ],
   "source": [
    "# Double checking \n",
    "# Finding the mean and standard deviation of the dataset to compare with the variance \n",
    "no_rain_saturdays.describe()"
   ]
  },
  {
   "cell_type": "code",
   "execution_count": 25,
   "metadata": {
    "scrolled": true
   },
   "outputs": [
    {
     "data": {
      "text/plain": [
       "count     180.000000\n",
       "mean     2427.205556\n",
       "std       721.314138\n",
       "min       480.000000\n",
       "25%      1962.000000\n",
       "50%      2540.000000\n",
       "75%      2928.000000\n",
       "max      4980.000000\n",
       "Name: duration_seconds, dtype: float64"
      ]
     },
     "execution_count": 25,
     "metadata": {},
     "output_type": "execute_result"
    }
   ],
   "source": [
    "# Finding the mean and standard deviation of the dataset to compare with the variance \n",
    "rain_saturdays.describe()"
   ]
  },
  {
   "cell_type": "markdown",
   "metadata": {},
   "source": [
    "#### Comparing mean, standard deviation (std), and variance \n",
    "Comparing the mean, standard deviation (std), and variance for rides from the Loop to O'Hare International Airport is an extra step we can take to determine significance level for testing. \n",
    "\n",
    "**Saturdays without rain:**<br>\n",
    "Mean: 1999.68 seconds (33.32 minutes)<br>\n",
    "Standard deviation: 759.20 seconds<br>\n",
    "Variance: 576382.01 seconds<br>\n",
    "\n",
    "On Saturdays without rain, the mean duration of rides is approximately 1999.68 seconds, with a standard deviation of 759.20 seconds. This large variance of 576382.01 seconds² suggests considerable variability in ride durations around the mean.\n",
    "\n",
    "\n",
    "**Rainy Saturdays:**\n",
    "Mean: 2427.21 seconds (40.45 minutes) <br>\n",
    "Standard deviation: 721.31 seconds<br>\n",
    "Variance: 520294.09 seconds<br>\n",
    "\n",
    "In contrast, rainy Saturdays show slightly longer mean ride durations, approximately 2427.21 seconds. Rainy Saturdays have a standard deviation of 721.31 seconds, slightly smaller than Saturdays without rain, suggesting more consistency. The variance for rainy Saturdays is also slightly lower at 520294.09 seconds² compared to Saturdays without rain.\n",
    "\n",
    "When comparing the average durations in minutes, it's clear that Rainy Saturdays have longer rides, lasting approximately 40.45 minutes compared to 33.32 minutes on Non-Rainy Saturdays. This difference of approximately 13 extra minutes can feel significantly longer to passengers, especially considering that the average ride should take approximately 34.52 minutes.\n",
    "\n",
    "Overall, there seems to be great variability between rides regardless of the weather on Saturdays, likely due to factors such as traffic conditions, construction, or peak hours for ride shares. Both non-rainy Saturdays and rainy Saturdays have variances much larger than the entire dataset mean of 2071.73 seconds, indicating a wide range of ride durations. Conducting a t-test will provide a better understanding of whether there is a significant difference between the two variables, helping determine if rain truly affects ride durations significantly.\n",
    "\n"
   ]
  },
  {
   "cell_type": "markdown",
   "metadata": {},
   "source": [
    "### Conducting Hypothesis Testing"
   ]
  },
  {
   "cell_type": "markdown",
   "metadata": {},
   "source": [
    "Since we're comparing the means of two independent samples (rides duration on rainy Saturdays vs. rides duration on non-rainy Saturdays), we can use the independent two-sample t-test and we will assign the significance level to 0.5, assuming equal variances from the tests done above."
   ]
  },
  {
   "cell_type": "markdown",
   "metadata": {},
   "source": [
    "Null Hypothesis (H0):\n",
    "The average duration of rides from the Loop to O'Hare International Airport is the same on rainy Saturdays as on non-rainy Saturdays.\n",
    "\n",
    "Alternative Hypothesis (H1):\n",
    "The average duration of rides from the Loop to O'Hare International Airport differs on rainy Saturdays compared to non-rainy Saturdays."
   ]
  },
  {
   "cell_type": "code",
   "execution_count": 26,
   "metadata": {
    "scrolled": true
   },
   "outputs": [
    {
     "name": "stdout",
     "output_type": "stream",
     "text": [
      "T-statistic: -6.946177714041499\n",
      "P-value: 6.517970327099473e-12\n",
      "Reject the null hypothesis. The average duration of rides from the Loop to O'Hare International Airport differs on rainy Saturdays compared to non-rainy Saturdays.\n"
     ]
    }
   ],
   "source": [
    "# Assigning alpha to 0.05\n",
    "alpha = 0.05\n",
    "\n",
    "# T-statictic and p-value\n",
    "t_statistics, p_value = stats.ttest_ind(no_rain_saturdays, rain_saturdays, equal_var=True)\n",
    "\n",
    "# Print t-statistic and p-value\n",
    "print(\"T-statistic:\", t_statistics)\n",
    "print(\"P-value:\", p_value)\n",
    "\n",
    "# Perform hypothesis testing\n",
    "if p_value < alpha:\n",
    "    print(\"Reject the null hypothesis. The average duration of rides from the Loop to O'Hare International Airport differs on rainy Saturdays compared to non-rainy Saturdays.\")\n",
    "else:\n",
    "    print(\"Fail to reject the null hypothesis. The average duration of rides from the Loop to O'Hare International Airport is the same on rainy Saturdays as on non-rainy Saturdays.\")\n",
    "    "
   ]
  },
  {
   "cell_type": "code",
   "execution_count": 27,
   "metadata": {},
   "outputs": [
    {
     "name": "stdout",
     "output_type": "stream",
     "text": [
      "T-statistic: -7.186034288068629\n",
      "P-value: 6.738994326108734e-12\n",
      "Reject the null hypothesis. The average duration of rides from the Loop to O'Hare International Airport differs on rainy Saturdays compared to non-rainy Saturdays.\n"
     ]
    }
   ],
   "source": [
    "#Being conservative and performing the test with equal_var=False as well since the Levene test was pretty close to 0.5\n",
    "\n",
    "# Assigning alpha to 0.05\n",
    "alpha = 0.05\n",
    "\n",
    "# T-statictic and p-value\n",
    "t_statistics, p_value = stats.ttest_ind(no_rain_saturdays, rain_saturdays, equal_var=False)\n",
    "\n",
    "# Print t-statistic and p-value\n",
    "print(\"T-statistic:\", t_statistics)\n",
    "print(\"P-value:\", p_value)\n",
    "\n",
    "# Perform hypothesis testing\n",
    "if p_value < alpha:\n",
    "    print(\"Reject the null hypothesis. The average duration of rides from the Loop to O'Hare International Airport differs on rainy Saturdays compared to non-rainy Saturdays.\")\n",
    "else:\n",
    "    print(\"Fail to reject the null hypothesis. The average duration of rides from the Loop to O'Hare International Airport is the same on rainy Saturdays as on non-rainy Saturdays.\")\n",
    "    "
   ]
  },
  {
   "cell_type": "markdown",
   "metadata": {},
   "source": [
    "# Final Conclusions"
   ]
  },
  {
   "cell_type": "markdown",
   "metadata": {},
   "source": [
    "As stated in the section above, **we reject the null hypothesis**. The average duration of rides from the Loop to O'Hare International Airport differs on rainy Saturdays compared to non-rainy Saturdays. When comparing the average durations in minutes, it's clear that Rainy Saturdays have longer rides, lasting approximately 40.45 minutes compared to 33.32 minutes on Non-Rainy Saturdays, while the average ride takes approximately 34.52 minutes.\n",
    "\n",
    "\n",
    "**The Hypotheses Tested:** <br>\n",
    "Null Hypothesis (H0): The average duration of rides from the Loop to O'Hare International Airport is the same on rainy Saturdays as on non-rainy Saturdays.\n",
    "\n",
    "Alternative Hypothesis (HA): The average duration of rides from the Loop to O'Hare International Airport differs on rainy Saturdays compared to non-rainy Saturdays.\n",
    "\n",
    "\n",
    "\n",
    "**Test Summary**<br>\n",
    "By conducting Levene's test for equality of variances, I assessed whether the variances of the two groups (no_rain_saturdays and rain_saturdays) are significantly different. The p-value from Levene's test was greater than the significance level of 0.05 (p = 0.53), indicating no significant difference in variances between the groups. Therefore, I assumed equal variances and conducted a two-sample t-test with equal_var=True.\n",
    "\n",
    "The t-test resulted in the following:\n",
    "T-statistic: -6.946177714041499\n",
    "P-value: 6.517970327099473e-12\n",
    "\n",
    "The results led to the rejection of the null hypothesis, indicating that the average duration of rides from the Loop to O'Hare International Airport differs significantly between rainy Saturdays and non-rainy Saturdays.\n",
    "\n",
    "Although the Levene test did not show a substantial difference in variances, I opted on the cautious side due to the small sample size (only Saturdays from November 2017). To ensure robustness, I also performed a Welch's t-test, assuming equal_var=False with the same significance level of 0.05.\n",
    "\n",
    "The results from the Welch's test were as follows:\n",
    "T-statistic: -7.186034288068629\n",
    "P-value: 6.738994326108734e-12\n",
    "\n",
    "Once again, the null hypothesis was rejected, confirming that the average duration of rides from the Loop to O'Hare International Airport differs significantly between rainy Saturdays and non-rainy Saturdays.\n",
    "\n",
    "\n",
    "\n",
    "**Limitations**<br>\n",
    "Although both tests supported the rejection of the null hypothesis, there are limitations to consider. One major limitation is the small sample size, limited to only Saturdays in November. This constraint may introduce biases or inaccuracies, as factors such as specific construction projects or Thanksgiving travel patterns could skew the data. To obtain a more accurate assessment of the significance of the observed differences, a larger sample size spanning various dates throughout the year, with consideration for different weather conditions, would be necessary.\n",
    "\n",
    "Overall, while the results provide insights into the differences in ride durations based on weather conditions, caution is warranted in interpreting the findings due to the limitations of the dataset."
   ]
  }
 ],
 "metadata": {
  "ExecuteTimeLog": [
   {
    "duration": 5735,
    "start_time": "2024-05-30T14:59:08.863Z"
   },
   {
    "duration": 321,
    "start_time": "2024-05-30T15:18:12.711Z"
   },
   {
    "duration": 1478,
    "start_time": "2024-05-30T15:18:19.923Z"
   },
   {
    "duration": 22,
    "start_time": "2024-05-30T15:18:21.965Z"
   },
   {
    "duration": 326,
    "start_time": "2024-05-30T15:18:32.706Z"
   },
   {
    "duration": 1453,
    "start_time": "2024-05-30T15:18:37.147Z"
   },
   {
    "duration": 22,
    "start_time": "2024-05-30T15:18:38.870Z"
   },
   {
    "duration": 24,
    "start_time": "2024-05-30T15:19:38.148Z"
   },
   {
    "duration": 5,
    "start_time": "2024-05-30T15:19:47.656Z"
   },
   {
    "duration": 31,
    "start_time": "2024-05-30T15:19:52.519Z"
   },
   {
    "duration": 5,
    "start_time": "2024-05-30T15:20:17.348Z"
   },
   {
    "duration": 316,
    "start_time": "2024-05-30T15:22:31.436Z"
   },
   {
    "duration": 1438,
    "start_time": "2024-05-30T15:22:38.055Z"
   },
   {
    "duration": 736,
    "start_time": "2024-05-30T15:23:00.241Z"
   },
   {
    "duration": 673,
    "start_time": "2024-05-30T15:23:46.243Z"
   },
   {
    "duration": 68,
    "start_time": "2024-05-30T15:23:46.919Z"
   },
   {
    "duration": 12,
    "start_time": "2024-05-30T15:23:46.990Z"
   },
   {
    "duration": 39,
    "start_time": "2024-05-30T15:23:47.004Z"
   },
   {
    "duration": 14,
    "start_time": "2024-05-30T15:23:47.047Z"
   },
   {
    "duration": 14,
    "start_time": "2024-05-30T15:23:47.064Z"
   },
   {
    "duration": 9,
    "start_time": "2024-05-30T15:33:27.361Z"
   },
   {
    "duration": 2,
    "start_time": "2024-05-30T15:49:49.040Z"
   },
   {
    "duration": 4,
    "start_time": "2024-05-30T15:50:10.507Z"
   },
   {
    "duration": 17,
    "start_time": "2024-05-30T15:52:56.217Z"
   },
   {
    "duration": 934,
    "start_time": "2024-05-30T15:53:27.464Z"
   },
   {
    "duration": 759,
    "start_time": "2024-05-30T15:53:37.327Z"
   },
   {
    "duration": 7,
    "start_time": "2024-05-30T15:55:03.676Z"
   },
   {
    "duration": 25,
    "start_time": "2024-05-30T15:55:17.660Z"
   },
   {
    "duration": 14,
    "start_time": "2024-05-30T15:55:22.014Z"
   },
   {
    "duration": 11,
    "start_time": "2024-05-30T15:55:33.660Z"
   },
   {
    "duration": 10,
    "start_time": "2024-05-30T15:56:02.920Z"
   },
   {
    "duration": 12,
    "start_time": "2024-05-30T15:56:40.437Z"
   },
   {
    "duration": 15,
    "start_time": "2024-05-30T16:01:07.266Z"
   },
   {
    "duration": 15,
    "start_time": "2024-05-30T16:01:37.309Z"
   },
   {
    "duration": 6,
    "start_time": "2024-05-30T16:01:45.326Z"
   },
   {
    "duration": 124,
    "start_time": "2024-05-30T16:06:34.780Z"
   },
   {
    "duration": 21,
    "start_time": "2024-05-30T16:06:49.328Z"
   },
   {
    "duration": 22,
    "start_time": "2024-05-30T16:07:07.746Z"
   },
   {
    "duration": 698,
    "start_time": "2024-05-30T16:07:16.040Z"
   },
   {
    "duration": 77,
    "start_time": "2024-05-30T16:07:16.741Z"
   },
   {
    "duration": 17,
    "start_time": "2024-05-30T16:07:16.830Z"
   },
   {
    "duration": 14,
    "start_time": "2024-05-30T16:07:16.852Z"
   },
   {
    "duration": 19,
    "start_time": "2024-05-30T16:07:16.868Z"
   },
   {
    "duration": 44,
    "start_time": "2024-05-30T16:07:16.890Z"
   },
   {
    "duration": 15,
    "start_time": "2024-05-30T16:07:16.937Z"
   },
   {
    "duration": 369,
    "start_time": "2024-05-30T16:07:16.955Z"
   },
   {
    "duration": 5,
    "start_time": "2024-05-30T16:07:57.055Z"
   },
   {
    "duration": 24,
    "start_time": "2024-05-30T16:08:16.839Z"
   },
   {
    "duration": 14,
    "start_time": "2024-05-30T16:08:19.849Z"
   },
   {
    "duration": 4,
    "start_time": "2024-05-30T16:08:42.050Z"
   },
   {
    "duration": 12,
    "start_time": "2024-05-30T16:08:46.391Z"
   },
   {
    "duration": 3,
    "start_time": "2024-05-30T16:12:11.534Z"
   },
   {
    "duration": 339,
    "start_time": "2024-05-30T16:12:15.954Z"
   },
   {
    "duration": 52,
    "start_time": "2024-05-30T16:12:54.576Z"
   },
   {
    "duration": 698,
    "start_time": "2024-05-30T16:13:00.315Z"
   },
   {
    "duration": 69,
    "start_time": "2024-05-30T16:13:01.016Z"
   },
   {
    "duration": 11,
    "start_time": "2024-05-30T16:13:01.087Z"
   },
   {
    "duration": 36,
    "start_time": "2024-05-30T16:13:01.102Z"
   },
   {
    "duration": 14,
    "start_time": "2024-05-30T16:13:01.142Z"
   },
   {
    "duration": 16,
    "start_time": "2024-05-30T16:13:01.158Z"
   },
   {
    "duration": 53,
    "start_time": "2024-05-30T16:13:01.177Z"
   },
   {
    "duration": 15,
    "start_time": "2024-05-30T16:13:01.233Z"
   },
   {
    "duration": 12,
    "start_time": "2024-05-30T16:13:01.252Z"
   },
   {
    "duration": 407,
    "start_time": "2024-05-30T16:17:19.707Z"
   },
   {
    "duration": 22,
    "start_time": "2024-05-30T16:17:29.388Z"
   },
   {
    "duration": 13,
    "start_time": "2024-05-30T16:17:44.582Z"
   },
   {
    "duration": 25,
    "start_time": "2024-05-30T16:18:21.708Z"
   },
   {
    "duration": 28,
    "start_time": "2024-05-30T16:18:32.774Z"
   },
   {
    "duration": 21,
    "start_time": "2024-05-30T16:18:48.815Z"
   },
   {
    "duration": 23,
    "start_time": "2024-05-30T16:19:05.753Z"
   },
   {
    "duration": 841,
    "start_time": "2024-05-30T16:20:07.166Z"
   },
   {
    "duration": 30,
    "start_time": "2024-05-30T16:20:08.010Z"
   },
   {
    "duration": 11,
    "start_time": "2024-05-30T16:20:08.042Z"
   },
   {
    "duration": 14,
    "start_time": "2024-05-30T16:20:08.058Z"
   },
   {
    "duration": 14,
    "start_time": "2024-05-30T16:20:08.076Z"
   },
   {
    "duration": 16,
    "start_time": "2024-05-30T16:20:08.130Z"
   },
   {
    "duration": 17,
    "start_time": "2024-05-30T16:20:08.165Z"
   },
   {
    "duration": 16,
    "start_time": "2024-05-30T16:20:08.185Z"
   },
   {
    "duration": 12,
    "start_time": "2024-05-30T16:20:08.230Z"
   },
   {
    "duration": 483,
    "start_time": "2024-05-30T16:20:08.247Z"
   },
   {
    "duration": 1081,
    "start_time": "2024-05-30T16:21:43.887Z"
   },
   {
    "duration": 67,
    "start_time": "2024-05-30T16:23:25.617Z"
   },
   {
    "duration": 69,
    "start_time": "2024-05-30T16:24:50.004Z"
   },
   {
    "duration": 67,
    "start_time": "2024-05-30T16:24:57.170Z"
   },
   {
    "duration": 975,
    "start_time": "2024-05-30T16:26:05.847Z"
   },
   {
    "duration": 69,
    "start_time": "2024-05-30T16:26:34.685Z"
   },
   {
    "duration": 68,
    "start_time": "2024-05-30T16:26:48.284Z"
   },
   {
    "duration": 68,
    "start_time": "2024-05-30T16:27:06.245Z"
   },
   {
    "duration": 72,
    "start_time": "2024-05-30T16:27:26.468Z"
   },
   {
    "duration": 70,
    "start_time": "2024-05-30T16:27:32.236Z"
   },
   {
    "duration": 67,
    "start_time": "2024-05-30T16:27:39.127Z"
   },
   {
    "duration": 68,
    "start_time": "2024-05-30T16:27:59.364Z"
   },
   {
    "duration": 68,
    "start_time": "2024-05-30T16:28:57.683Z"
   },
   {
    "duration": 67,
    "start_time": "2024-05-30T16:29:10.618Z"
   },
   {
    "duration": 72,
    "start_time": "2024-05-30T16:30:07.152Z"
   },
   {
    "duration": 798,
    "start_time": "2024-05-30T16:39:29.585Z"
   },
   {
    "duration": 33,
    "start_time": "2024-05-30T16:39:30.387Z"
   },
   {
    "duration": 20,
    "start_time": "2024-05-30T16:39:30.425Z"
   },
   {
    "duration": 17,
    "start_time": "2024-05-30T16:39:30.450Z"
   },
   {
    "duration": 27,
    "start_time": "2024-05-30T16:39:30.472Z"
   },
   {
    "duration": 18,
    "start_time": "2024-05-30T16:39:30.531Z"
   },
   {
    "duration": 21,
    "start_time": "2024-05-30T16:39:30.552Z"
   },
   {
    "duration": 18,
    "start_time": "2024-05-30T16:39:30.575Z"
   },
   {
    "duration": 43,
    "start_time": "2024-05-30T16:39:30.596Z"
   },
   {
    "duration": 468,
    "start_time": "2024-05-30T16:39:30.645Z"
   },
   {
    "duration": 15,
    "start_time": "2024-05-30T16:40:46.592Z"
   },
   {
    "duration": 11,
    "start_time": "2024-05-30T16:44:01.369Z"
   },
   {
    "duration": 18,
    "start_time": "2024-05-30T16:44:09.881Z"
   },
   {
    "duration": 11,
    "start_time": "2024-05-30T16:48:21.010Z"
   },
   {
    "duration": 10,
    "start_time": "2024-05-30T16:48:24.384Z"
   },
   {
    "duration": 7,
    "start_time": "2024-05-30T16:49:04.428Z"
   },
   {
    "duration": 9,
    "start_time": "2024-05-30T16:49:16.839Z"
   },
   {
    "duration": 10,
    "start_time": "2024-05-30T16:50:03.929Z"
   },
   {
    "duration": 9,
    "start_time": "2024-05-30T16:51:12.554Z"
   },
   {
    "duration": 875,
    "start_time": "2024-05-30T16:51:19.331Z"
   },
   {
    "duration": 21,
    "start_time": "2024-05-30T16:51:20.209Z"
   },
   {
    "duration": 26,
    "start_time": "2024-05-30T16:51:20.232Z"
   },
   {
    "duration": 9,
    "start_time": "2024-05-30T16:51:20.261Z"
   },
   {
    "duration": 10,
    "start_time": "2024-05-30T16:51:20.276Z"
   },
   {
    "duration": 47,
    "start_time": "2024-05-30T16:51:20.289Z"
   },
   {
    "duration": 14,
    "start_time": "2024-05-30T16:51:20.339Z"
   },
   {
    "duration": 15,
    "start_time": "2024-05-30T16:51:20.356Z"
   },
   {
    "duration": 20,
    "start_time": "2024-05-30T16:51:20.374Z"
   },
   {
    "duration": 15,
    "start_time": "2024-05-30T16:51:20.431Z"
   },
   {
    "duration": 14,
    "start_time": "2024-05-30T16:51:20.449Z"
   },
   {
    "duration": 14,
    "start_time": "2024-05-30T16:51:20.465Z"
   },
   {
    "duration": 513,
    "start_time": "2024-05-30T16:51:20.481Z"
   },
   {
    "duration": 1077,
    "start_time": "2024-05-30T16:53:02.634Z"
   },
   {
    "duration": 75,
    "start_time": "2024-05-30T16:53:40.816Z"
   },
   {
    "duration": 75,
    "start_time": "2024-05-30T16:54:02.912Z"
   },
   {
    "duration": 70,
    "start_time": "2024-05-30T16:55:01.285Z"
   },
   {
    "duration": 69,
    "start_time": "2024-05-30T16:55:29.422Z"
   },
   {
    "duration": 93,
    "start_time": "2024-05-30T16:56:20.845Z"
   },
   {
    "duration": 3,
    "start_time": "2024-05-30T16:57:22.238Z"
   },
   {
    "duration": 31,
    "start_time": "2024-05-30T16:59:07.060Z"
   },
   {
    "duration": 10,
    "start_time": "2024-05-30T16:59:10.929Z"
   },
   {
    "duration": 821,
    "start_time": "2024-05-30T17:04:12.977Z"
   },
   {
    "duration": 14,
    "start_time": "2024-05-30T17:04:13.802Z"
   },
   {
    "duration": 23,
    "start_time": "2024-05-30T17:04:13.819Z"
   },
   {
    "duration": 9,
    "start_time": "2024-05-30T17:04:13.846Z"
   },
   {
    "duration": 12,
    "start_time": "2024-05-30T17:04:13.858Z"
   },
   {
    "duration": 15,
    "start_time": "2024-05-30T17:04:13.873Z"
   },
   {
    "duration": 53,
    "start_time": "2024-05-30T17:04:13.890Z"
   },
   {
    "duration": 15,
    "start_time": "2024-05-30T17:04:13.946Z"
   },
   {
    "duration": 15,
    "start_time": "2024-05-30T17:04:13.965Z"
   },
   {
    "duration": 60,
    "start_time": "2024-05-30T17:04:13.984Z"
   },
   {
    "duration": 488,
    "start_time": "2024-05-30T17:04:14.047Z"
   },
   {
    "duration": 12,
    "start_time": "2024-05-30T17:04:14.538Z"
   },
   {
    "duration": 123,
    "start_time": "2024-05-30T17:04:14.553Z"
   },
   {
    "duration": 12,
    "start_time": "2024-05-30T17:04:14.680Z"
   },
   {
    "duration": 70,
    "start_time": "2024-05-30T17:04:14.732Z"
   },
   {
    "duration": 11,
    "start_time": "2024-05-30T17:05:19.291Z"
   },
   {
    "duration": 68,
    "start_time": "2024-05-30T17:05:31.044Z"
   },
   {
    "duration": 86,
    "start_time": "2024-05-30T17:05:42.594Z"
   },
   {
    "duration": 83,
    "start_time": "2024-05-30T17:08:40.189Z"
   },
   {
    "duration": 12,
    "start_time": "2024-05-30T17:09:59.077Z"
   },
   {
    "duration": 73,
    "start_time": "2024-05-30T17:10:41.182Z"
   },
   {
    "duration": 136,
    "start_time": "2024-05-30T17:11:01.170Z"
   },
   {
    "duration": 1002,
    "start_time": "2024-06-03T15:24:00.943Z"
   },
   {
    "duration": 24,
    "start_time": "2024-06-03T15:24:01.951Z"
   },
   {
    "duration": 17,
    "start_time": "2024-06-03T15:24:01.979Z"
   },
   {
    "duration": 31,
    "start_time": "2024-06-03T15:24:02.000Z"
   },
   {
    "duration": 13,
    "start_time": "2024-06-03T15:24:02.037Z"
   },
   {
    "duration": 16,
    "start_time": "2024-06-03T15:24:02.053Z"
   },
   {
    "duration": 57,
    "start_time": "2024-06-03T15:24:02.073Z"
   },
   {
    "duration": 19,
    "start_time": "2024-06-03T15:24:02.134Z"
   },
   {
    "duration": 17,
    "start_time": "2024-06-03T15:24:02.157Z"
   },
   {
    "duration": 19,
    "start_time": "2024-06-03T15:24:02.222Z"
   },
   {
    "duration": 588,
    "start_time": "2024-06-03T15:24:02.244Z"
   },
   {
    "duration": 15,
    "start_time": "2024-06-03T15:24:02.836Z"
   },
   {
    "duration": 136,
    "start_time": "2024-06-03T15:24:02.854Z"
   },
   {
    "duration": 14,
    "start_time": "2024-06-03T15:24:03.027Z"
   },
   {
    "duration": 108,
    "start_time": "2024-06-03T15:24:03.045Z"
   },
   {
    "duration": 9,
    "start_time": "2024-06-03T15:28:43.506Z"
   },
   {
    "duration": 29,
    "start_time": "2024-06-03T15:42:57.352Z"
   },
   {
    "duration": 23,
    "start_time": "2024-06-03T15:48:47.370Z"
   },
   {
    "duration": 7,
    "start_time": "2024-06-03T15:52:02.922Z"
   },
   {
    "duration": 18,
    "start_time": "2024-06-03T15:52:22.816Z"
   },
   {
    "duration": 16,
    "start_time": "2024-06-03T15:52:52.792Z"
   },
   {
    "duration": 6,
    "start_time": "2024-06-03T15:53:39.627Z"
   },
   {
    "duration": 6,
    "start_time": "2024-06-03T15:55:13.285Z"
   },
   {
    "duration": 8,
    "start_time": "2024-06-03T15:56:50.001Z"
   },
   {
    "duration": 15,
    "start_time": "2024-06-03T15:57:54.327Z"
   },
   {
    "duration": 12,
    "start_time": "2024-06-03T15:58:16.844Z"
   },
   {
    "duration": 920,
    "start_time": "2024-06-03T15:58:24.142Z"
   },
   {
    "duration": 19,
    "start_time": "2024-06-03T15:58:25.066Z"
   },
   {
    "duration": 37,
    "start_time": "2024-06-03T15:58:25.089Z"
   },
   {
    "duration": 11,
    "start_time": "2024-06-03T15:58:25.131Z"
   },
   {
    "duration": 13,
    "start_time": "2024-06-03T15:58:25.146Z"
   },
   {
    "duration": 63,
    "start_time": "2024-06-03T15:58:25.163Z"
   },
   {
    "duration": 18,
    "start_time": "2024-06-03T15:58:25.230Z"
   },
   {
    "duration": 21,
    "start_time": "2024-06-03T15:58:25.251Z"
   },
   {
    "duration": 65,
    "start_time": "2024-06-03T15:58:25.275Z"
   },
   {
    "duration": 20,
    "start_time": "2024-06-03T15:58:25.347Z"
   },
   {
    "duration": 553,
    "start_time": "2024-06-03T15:58:25.371Z"
   },
   {
    "duration": 15,
    "start_time": "2024-06-03T15:58:25.928Z"
   },
   {
    "duration": 130,
    "start_time": "2024-06-03T15:58:25.946Z"
   },
   {
    "duration": 44,
    "start_time": "2024-06-03T15:58:26.081Z"
   },
   {
    "duration": 101,
    "start_time": "2024-06-03T15:58:26.129Z"
   },
   {
    "duration": 26,
    "start_time": "2024-06-03T15:58:26.233Z"
   },
   {
    "duration": 17,
    "start_time": "2024-06-03T15:58:26.263Z"
   },
   {
    "duration": 2734,
    "start_time": "2024-06-03T15:58:26.284Z"
   },
   {
    "duration": 0,
    "start_time": "2024-06-03T15:58:29.023Z"
   },
   {
    "duration": 0,
    "start_time": "2024-06-03T15:58:29.026Z"
   },
   {
    "duration": 11,
    "start_time": "2024-06-03T15:58:34.550Z"
   },
   {
    "duration": 18,
    "start_time": "2024-06-03T15:58:40.931Z"
   },
   {
    "duration": 390,
    "start_time": "2024-06-03T16:01:27.401Z"
   },
   {
    "duration": 956,
    "start_time": "2024-06-03T16:01:40.814Z"
   },
   {
    "duration": 15,
    "start_time": "2024-06-03T16:01:41.774Z"
   },
   {
    "duration": 37,
    "start_time": "2024-06-03T16:01:41.793Z"
   },
   {
    "duration": 10,
    "start_time": "2024-06-03T16:01:41.835Z"
   },
   {
    "duration": 13,
    "start_time": "2024-06-03T16:01:41.849Z"
   },
   {
    "duration": 57,
    "start_time": "2024-06-03T16:01:41.866Z"
   },
   {
    "duration": 15,
    "start_time": "2024-06-03T16:01:41.927Z"
   },
   {
    "duration": 16,
    "start_time": "2024-06-03T16:01:41.947Z"
   },
   {
    "duration": 15,
    "start_time": "2024-06-03T16:01:41.966Z"
   },
   {
    "duration": 16,
    "start_time": "2024-06-03T16:01:42.026Z"
   },
   {
    "duration": 530,
    "start_time": "2024-06-03T16:01:42.045Z"
   },
   {
    "duration": 12,
    "start_time": "2024-06-03T16:01:42.579Z"
   },
   {
    "duration": 156,
    "start_time": "2024-06-03T16:01:42.594Z"
   },
   {
    "duration": 14,
    "start_time": "2024-06-03T16:01:42.753Z"
   },
   {
    "duration": 110,
    "start_time": "2024-06-03T16:01:42.771Z"
   },
   {
    "duration": 18,
    "start_time": "2024-06-03T16:01:42.885Z"
   },
   {
    "duration": 17,
    "start_time": "2024-06-03T16:01:42.922Z"
   },
   {
    "duration": 1721,
    "start_time": "2024-06-03T16:01:42.942Z"
   },
   {
    "duration": 0,
    "start_time": "2024-06-03T16:01:44.667Z"
   },
   {
    "duration": 0,
    "start_time": "2024-06-03T16:01:44.669Z"
   },
   {
    "duration": 10,
    "start_time": "2024-06-03T16:01:51.835Z"
   },
   {
    "duration": 16,
    "start_time": "2024-06-03T16:01:57.428Z"
   },
   {
    "duration": 17,
    "start_time": "2024-06-03T16:02:10.383Z"
   },
   {
    "duration": 32,
    "start_time": "2024-06-03T16:06:35.576Z"
   },
   {
    "duration": 37,
    "start_time": "2024-06-03T16:08:51.066Z"
   },
   {
    "duration": 19,
    "start_time": "2024-06-03T16:10:43.564Z"
   },
   {
    "duration": 18,
    "start_time": "2024-06-03T16:10:47.703Z"
   },
   {
    "duration": 18,
    "start_time": "2024-06-03T16:10:52.925Z"
   },
   {
    "duration": 34,
    "start_time": "2024-06-03T16:10:57.740Z"
   },
   {
    "duration": 31,
    "start_time": "2024-06-03T16:12:32.145Z"
   },
   {
    "duration": 17,
    "start_time": "2024-06-03T16:12:35.030Z"
   },
   {
    "duration": 31,
    "start_time": "2024-06-03T16:12:50.700Z"
   },
   {
    "duration": 17,
    "start_time": "2024-06-03T16:12:52.119Z"
   },
   {
    "duration": 18,
    "start_time": "2024-06-03T16:13:11.198Z"
   },
   {
    "duration": 19,
    "start_time": "2024-06-03T16:13:14.293Z"
   },
   {
    "duration": 16,
    "start_time": "2024-06-03T16:13:15.800Z"
   },
   {
    "duration": 962,
    "start_time": "2024-06-03T16:13:21.946Z"
   },
   {
    "duration": 24,
    "start_time": "2024-06-03T16:13:22.912Z"
   },
   {
    "duration": 17,
    "start_time": "2024-06-03T16:13:22.939Z"
   },
   {
    "duration": 10,
    "start_time": "2024-06-03T16:13:22.961Z"
   },
   {
    "duration": 13,
    "start_time": "2024-06-03T16:13:22.975Z"
   },
   {
    "duration": 15,
    "start_time": "2024-06-03T16:13:23.026Z"
   },
   {
    "duration": 16,
    "start_time": "2024-06-03T16:13:23.044Z"
   },
   {
    "duration": 18,
    "start_time": "2024-06-03T16:13:23.064Z"
   },
   {
    "duration": 15,
    "start_time": "2024-06-03T16:13:23.125Z"
   },
   {
    "duration": 15,
    "start_time": "2024-06-03T16:13:23.146Z"
   },
   {
    "duration": 534,
    "start_time": "2024-06-03T16:13:23.165Z"
   },
   {
    "duration": 21,
    "start_time": "2024-06-03T16:13:23.703Z"
   },
   {
    "duration": 146,
    "start_time": "2024-06-03T16:13:23.727Z"
   },
   {
    "duration": 16,
    "start_time": "2024-06-03T16:13:23.876Z"
   },
   {
    "duration": 96,
    "start_time": "2024-06-03T16:13:23.896Z"
   },
   {
    "duration": 40,
    "start_time": "2024-06-03T16:13:23.995Z"
   },
   {
    "duration": 20,
    "start_time": "2024-06-03T16:13:24.038Z"
   },
   {
    "duration": 2768,
    "start_time": "2024-06-03T16:13:24.061Z"
   },
   {
    "duration": 0,
    "start_time": "2024-06-03T16:13:26.835Z"
   },
   {
    "duration": 0,
    "start_time": "2024-06-03T16:13:26.838Z"
   },
   {
    "duration": 18,
    "start_time": "2024-06-03T16:14:43.589Z"
   },
   {
    "duration": 16,
    "start_time": "2024-06-03T16:14:45.366Z"
   },
   {
    "duration": 12,
    "start_time": "2024-06-03T16:17:52.314Z"
   },
   {
    "duration": 18,
    "start_time": "2024-06-03T16:18:06.112Z"
   },
   {
    "duration": 154,
    "start_time": "2024-06-03T16:18:28.992Z"
   },
   {
    "duration": 17,
    "start_time": "2024-06-03T16:20:18.329Z"
   },
   {
    "duration": 9,
    "start_time": "2024-06-03T16:20:35.752Z"
   },
   {
    "duration": 3,
    "start_time": "2024-06-03T16:47:37.298Z"
   },
   {
    "duration": 3,
    "start_time": "2024-06-03T16:48:40.503Z"
   },
   {
    "duration": 4,
    "start_time": "2024-06-03T16:50:22.034Z"
   },
   {
    "duration": 391,
    "start_time": "2024-06-05T17:39:20.474Z"
   },
   {
    "duration": 5102,
    "start_time": "2024-06-05T17:39:29.131Z"
   },
   {
    "duration": 23,
    "start_time": "2024-06-05T17:39:34.237Z"
   },
   {
    "duration": 14,
    "start_time": "2024-06-05T17:39:34.263Z"
   },
   {
    "duration": 9,
    "start_time": "2024-06-05T17:39:34.280Z"
   },
   {
    "duration": 41,
    "start_time": "2024-06-05T17:39:34.293Z"
   },
   {
    "duration": 14,
    "start_time": "2024-06-05T17:39:34.337Z"
   },
   {
    "duration": 14,
    "start_time": "2024-06-05T17:39:34.354Z"
   },
   {
    "duration": 15,
    "start_time": "2024-06-05T17:39:34.371Z"
   },
   {
    "duration": 57,
    "start_time": "2024-06-05T17:39:34.389Z"
   },
   {
    "duration": 17,
    "start_time": "2024-06-05T17:39:34.449Z"
   },
   {
    "duration": 627,
    "start_time": "2024-06-05T17:39:34.468Z"
   },
   {
    "duration": 33,
    "start_time": "2024-06-05T17:39:35.099Z"
   },
   {
    "duration": 130,
    "start_time": "2024-06-05T17:39:35.136Z"
   },
   {
    "duration": 13,
    "start_time": "2024-06-05T17:39:35.272Z"
   },
   {
    "duration": 114,
    "start_time": "2024-06-05T17:39:35.288Z"
   },
   {
    "duration": 44,
    "start_time": "2024-06-05T17:39:35.405Z"
   },
   {
    "duration": 17,
    "start_time": "2024-06-05T17:39:35.453Z"
   },
   {
    "duration": 19,
    "start_time": "2024-06-05T17:39:35.474Z"
   },
   {
    "duration": 45,
    "start_time": "2024-06-05T17:39:35.497Z"
   },
   {
    "duration": 14,
    "start_time": "2024-06-05T17:39:35.546Z"
   },
   {
    "duration": 7,
    "start_time": "2024-06-05T17:39:35.563Z"
   },
   {
    "duration": 60,
    "start_time": "2024-06-05T17:39:35.573Z"
   },
   {
    "duration": 9,
    "start_time": "2024-06-05T17:39:35.637Z"
   },
   {
    "duration": 8,
    "start_time": "2024-06-05T17:39:35.649Z"
   },
   {
    "duration": 7,
    "start_time": "2024-06-05T17:39:42.551Z"
   },
   {
    "duration": 10,
    "start_time": "2024-06-05T17:39:57.650Z"
   },
   {
    "duration": 376,
    "start_time": "2024-06-05T23:15:35.628Z"
   },
   {
    "duration": 23,
    "start_time": "2024-06-05T23:22:35.013Z"
   },
   {
    "duration": 5,
    "start_time": "2024-06-05T23:22:43.453Z"
   },
   {
    "duration": 8,
    "start_time": "2024-06-05T23:23:51.825Z"
   },
   {
    "duration": 34,
    "start_time": "2024-06-05T23:24:02.221Z"
   },
   {
    "duration": 5259,
    "start_time": "2024-06-05T23:24:07.573Z"
   },
   {
    "duration": 18,
    "start_time": "2024-06-05T23:24:12.836Z"
   },
   {
    "duration": 16,
    "start_time": "2024-06-05T23:24:12.857Z"
   },
   {
    "duration": 13,
    "start_time": "2024-06-05T23:24:12.877Z"
   },
   {
    "duration": 40,
    "start_time": "2024-06-05T23:24:12.894Z"
   },
   {
    "duration": 18,
    "start_time": "2024-06-05T23:24:12.940Z"
   },
   {
    "duration": 21,
    "start_time": "2024-06-05T23:24:12.962Z"
   },
   {
    "duration": 45,
    "start_time": "2024-06-05T23:24:12.989Z"
   },
   {
    "duration": 24,
    "start_time": "2024-06-05T23:24:13.038Z"
   },
   {
    "duration": 17,
    "start_time": "2024-06-05T23:24:13.069Z"
   },
   {
    "duration": 543,
    "start_time": "2024-06-05T23:24:13.089Z"
   },
   {
    "duration": 12,
    "start_time": "2024-06-05T23:24:13.636Z"
   },
   {
    "duration": 144,
    "start_time": "2024-06-05T23:24:13.651Z"
   },
   {
    "duration": 41,
    "start_time": "2024-06-05T23:24:13.798Z"
   },
   {
    "duration": 96,
    "start_time": "2024-06-05T23:24:13.842Z"
   },
   {
    "duration": 28,
    "start_time": "2024-06-05T23:24:13.942Z"
   },
   {
    "duration": 15,
    "start_time": "2024-06-05T23:24:13.973Z"
   },
   {
    "duration": 359,
    "start_time": "2024-06-05T23:24:13.991Z"
   },
   {
    "duration": 0,
    "start_time": "2024-06-05T23:24:14.353Z"
   },
   {
    "duration": 0,
    "start_time": "2024-06-05T23:24:14.355Z"
   },
   {
    "duration": 0,
    "start_time": "2024-06-05T23:24:14.358Z"
   },
   {
    "duration": 0,
    "start_time": "2024-06-05T23:24:14.361Z"
   },
   {
    "duration": 0,
    "start_time": "2024-06-05T23:24:14.363Z"
   },
   {
    "duration": 0,
    "start_time": "2024-06-05T23:24:14.366Z"
   },
   {
    "duration": 0,
    "start_time": "2024-06-05T23:24:14.369Z"
   },
   {
    "duration": 0,
    "start_time": "2024-06-05T23:24:14.372Z"
   },
   {
    "duration": 0,
    "start_time": "2024-06-05T23:24:14.375Z"
   },
   {
    "duration": 1245,
    "start_time": "2024-06-05T23:24:34.819Z"
   },
   {
    "duration": 21,
    "start_time": "2024-06-05T23:26:23.900Z"
   },
   {
    "duration": 15,
    "start_time": "2024-06-05T23:26:26.889Z"
   },
   {
    "duration": 533,
    "start_time": "2024-06-05T23:26:28.960Z"
   },
   {
    "duration": 1382,
    "start_time": "2024-06-05T23:26:36.322Z"
   },
   {
    "duration": 29,
    "start_time": "2024-06-05T23:26:37.709Z"
   },
   {
    "duration": 20,
    "start_time": "2024-06-05T23:26:37.741Z"
   },
   {
    "duration": 14,
    "start_time": "2024-06-05T23:26:37.767Z"
   },
   {
    "duration": 11,
    "start_time": "2024-06-05T23:26:37.784Z"
   },
   {
    "duration": 43,
    "start_time": "2024-06-05T23:26:37.798Z"
   },
   {
    "duration": 16,
    "start_time": "2024-06-05T23:26:37.847Z"
   },
   {
    "duration": 18,
    "start_time": "2024-06-05T23:26:37.866Z"
   },
   {
    "duration": 52,
    "start_time": "2024-06-05T23:26:37.887Z"
   },
   {
    "duration": 17,
    "start_time": "2024-06-05T23:26:37.947Z"
   },
   {
    "duration": 591,
    "start_time": "2024-06-05T23:26:37.967Z"
   },
   {
    "duration": 13,
    "start_time": "2024-06-05T23:26:38.562Z"
   },
   {
    "duration": 159,
    "start_time": "2024-06-05T23:26:38.578Z"
   },
   {
    "duration": 15,
    "start_time": "2024-06-05T23:26:38.740Z"
   },
   {
    "duration": 98,
    "start_time": "2024-06-05T23:26:38.758Z"
   },
   {
    "duration": 21,
    "start_time": "2024-06-05T23:26:38.858Z"
   },
   {
    "duration": 16,
    "start_time": "2024-06-05T23:26:38.882Z"
   },
   {
    "duration": 19,
    "start_time": "2024-06-05T23:26:38.929Z"
   },
   {
    "duration": 15,
    "start_time": "2024-06-05T23:26:38.952Z"
   },
   {
    "duration": 1160,
    "start_time": "2024-06-05T23:26:38.971Z"
   },
   {
    "duration": 0,
    "start_time": "2024-06-05T23:26:40.134Z"
   },
   {
    "duration": 0,
    "start_time": "2024-06-05T23:26:40.137Z"
   },
   {
    "duration": 0,
    "start_time": "2024-06-05T23:26:40.140Z"
   },
   {
    "duration": 0,
    "start_time": "2024-06-05T23:26:40.143Z"
   },
   {
    "duration": 0,
    "start_time": "2024-06-05T23:26:40.146Z"
   },
   {
    "duration": 0,
    "start_time": "2024-06-05T23:26:40.149Z"
   },
   {
    "duration": 32,
    "start_time": "2024-06-05T23:26:57.942Z"
   },
   {
    "duration": 14,
    "start_time": "2024-06-05T23:26:59.635Z"
   },
   {
    "duration": 21,
    "start_time": "2024-06-05T23:27:53.242Z"
   },
   {
    "duration": 18,
    "start_time": "2024-06-05T23:27:54.484Z"
   },
   {
    "duration": 25,
    "start_time": "2024-06-05T23:27:57.796Z"
   },
   {
    "duration": 33,
    "start_time": "2024-06-05T23:28:39.516Z"
   },
   {
    "duration": 5,
    "start_time": "2024-06-05T23:29:19.504Z"
   },
   {
    "duration": 6,
    "start_time": "2024-06-05T23:29:28.860Z"
   },
   {
    "duration": 27,
    "start_time": "2024-06-05T23:30:06.037Z"
   },
   {
    "duration": 9,
    "start_time": "2024-06-05T23:30:21.928Z"
   },
   {
    "duration": 7,
    "start_time": "2024-06-05T23:30:42.492Z"
   },
   {
    "duration": 7,
    "start_time": "2024-06-05T23:32:09.245Z"
   },
   {
    "duration": 15,
    "start_time": "2024-06-05T23:33:47.039Z"
   },
   {
    "duration": 11,
    "start_time": "2024-06-05T23:38:11.998Z"
   },
   {
    "duration": 6,
    "start_time": "2024-06-05T23:38:59.733Z"
   },
   {
    "duration": 7,
    "start_time": "2024-06-05T23:39:52.353Z"
   },
   {
    "duration": 8,
    "start_time": "2024-06-05T23:40:00.655Z"
   },
   {
    "duration": 11,
    "start_time": "2024-06-05T23:40:54.983Z"
   },
   {
    "duration": 5,
    "start_time": "2024-06-05T23:40:57.190Z"
   },
   {
    "duration": 7,
    "start_time": "2024-06-05T23:41:14.686Z"
   },
   {
    "duration": 28,
    "start_time": "2024-06-05T23:47:06.060Z"
   },
   {
    "duration": 8,
    "start_time": "2024-06-05T23:47:11.443Z"
   },
   {
    "duration": 10,
    "start_time": "2024-06-05T23:47:13.191Z"
   },
   {
    "duration": 15,
    "start_time": "2024-06-05T23:52:42.302Z"
   },
   {
    "duration": 12,
    "start_time": "2024-06-05T23:55:40.565Z"
   },
   {
    "duration": 25,
    "start_time": "2024-06-05T23:57:33.586Z"
   },
   {
    "duration": 29,
    "start_time": "2024-06-05T23:57:46.526Z"
   },
   {
    "duration": 27,
    "start_time": "2024-06-05T23:57:49.501Z"
   },
   {
    "duration": 6,
    "start_time": "2024-06-05T23:57:57.361Z"
   },
   {
    "duration": 10,
    "start_time": "2024-06-05T23:57:58.411Z"
   },
   {
    "duration": 10,
    "start_time": "2024-06-05T23:58:00.168Z"
   },
   {
    "duration": 10,
    "start_time": "2024-06-05T23:58:15.303Z"
   },
   {
    "duration": 1296,
    "start_time": "2024-06-06T00:11:23.198Z"
   },
   {
    "duration": 18,
    "start_time": "2024-06-06T00:11:24.499Z"
   },
   {
    "duration": 24,
    "start_time": "2024-06-06T00:11:24.520Z"
   },
   {
    "duration": 9,
    "start_time": "2024-06-06T00:11:24.551Z"
   },
   {
    "duration": 12,
    "start_time": "2024-06-06T00:11:24.565Z"
   },
   {
    "duration": 51,
    "start_time": "2024-06-06T00:11:24.581Z"
   },
   {
    "duration": 13,
    "start_time": "2024-06-06T00:11:24.635Z"
   },
   {
    "duration": 15,
    "start_time": "2024-06-06T00:11:24.651Z"
   },
   {
    "duration": 16,
    "start_time": "2024-06-06T00:11:24.669Z"
   },
   {
    "duration": 56,
    "start_time": "2024-06-06T00:11:24.688Z"
   },
   {
    "duration": 547,
    "start_time": "2024-06-06T00:11:24.747Z"
   },
   {
    "duration": 11,
    "start_time": "2024-06-06T00:11:25.297Z"
   },
   {
    "duration": 128,
    "start_time": "2024-06-06T00:11:25.311Z"
   },
   {
    "duration": 11,
    "start_time": "2024-06-06T00:11:25.446Z"
   },
   {
    "duration": 91,
    "start_time": "2024-06-06T00:11:25.460Z"
   },
   {
    "duration": 22,
    "start_time": "2024-06-06T00:11:25.555Z"
   },
   {
    "duration": 14,
    "start_time": "2024-06-06T00:11:25.581Z"
   },
   {
    "duration": 40,
    "start_time": "2024-06-06T00:11:25.599Z"
   },
   {
    "duration": 17,
    "start_time": "2024-06-06T00:11:25.643Z"
   },
   {
    "duration": 23,
    "start_time": "2024-06-06T00:11:25.666Z"
   },
   {
    "duration": 40,
    "start_time": "2024-06-06T00:11:25.693Z"
   },
   {
    "duration": 8,
    "start_time": "2024-06-06T00:11:25.736Z"
   },
   {
    "duration": 12,
    "start_time": "2024-06-06T00:11:25.746Z"
   },
   {
    "duration": 12,
    "start_time": "2024-06-06T00:11:25.762Z"
   },
   {
    "duration": 58,
    "start_time": "2024-06-06T00:11:25.778Z"
   },
   {
    "duration": 5,
    "start_time": "2024-06-06T00:11:25.839Z"
   },
   {
    "duration": 495,
    "start_time": "2024-06-06T00:18:22.128Z"
   },
   {
    "duration": 6,
    "start_time": "2024-06-06T00:18:49.362Z"
   },
   {
    "duration": 7,
    "start_time": "2024-06-06T00:18:59.478Z"
   },
   {
    "duration": 7,
    "start_time": "2024-06-06T00:21:00.973Z"
   },
   {
    "duration": 33,
    "start_time": "2024-06-06T00:21:10.916Z"
   },
   {
    "duration": 1324,
    "start_time": "2024-06-06T00:21:22.843Z"
   },
   {
    "duration": 17,
    "start_time": "2024-06-06T00:21:24.170Z"
   },
   {
    "duration": 16,
    "start_time": "2024-06-06T00:21:24.190Z"
   },
   {
    "duration": 10,
    "start_time": "2024-06-06T00:21:24.231Z"
   },
   {
    "duration": 14,
    "start_time": "2024-06-06T00:21:24.244Z"
   },
   {
    "duration": 17,
    "start_time": "2024-06-06T00:21:24.261Z"
   },
   {
    "duration": 51,
    "start_time": "2024-06-06T00:21:24.281Z"
   },
   {
    "duration": 22,
    "start_time": "2024-06-06T00:21:24.335Z"
   },
   {
    "duration": 19,
    "start_time": "2024-06-06T00:21:24.360Z"
   },
   {
    "duration": 43,
    "start_time": "2024-06-06T00:21:24.388Z"
   },
   {
    "duration": 621,
    "start_time": "2024-06-06T00:21:24.435Z"
   },
   {
    "duration": 17,
    "start_time": "2024-06-06T00:21:25.059Z"
   },
   {
    "duration": 119,
    "start_time": "2024-06-06T00:21:25.079Z"
   },
   {
    "duration": 14,
    "start_time": "2024-06-06T00:21:25.230Z"
   },
   {
    "duration": 107,
    "start_time": "2024-06-06T00:21:25.247Z"
   },
   {
    "duration": 24,
    "start_time": "2024-06-06T00:21:25.358Z"
   },
   {
    "duration": 20,
    "start_time": "2024-06-06T00:21:25.385Z"
   },
   {
    "duration": 36,
    "start_time": "2024-06-06T00:21:25.409Z"
   },
   {
    "duration": 25,
    "start_time": "2024-06-06T00:21:25.448Z"
   },
   {
    "duration": 28,
    "start_time": "2024-06-06T00:21:25.480Z"
   },
   {
    "duration": 29,
    "start_time": "2024-06-06T00:21:25.515Z"
   },
   {
    "duration": 9,
    "start_time": "2024-06-06T00:21:25.554Z"
   },
   {
    "duration": 20,
    "start_time": "2024-06-06T00:21:25.571Z"
   },
   {
    "duration": 17,
    "start_time": "2024-06-06T00:21:25.598Z"
   },
   {
    "duration": 23,
    "start_time": "2024-06-06T00:21:25.618Z"
   },
   {
    "duration": 707,
    "start_time": "2024-06-06T00:21:25.644Z"
   },
   {
    "duration": 28,
    "start_time": "2024-06-06T00:22:37.605Z"
   },
   {
    "duration": 28,
    "start_time": "2024-06-06T00:25:17.501Z"
   },
   {
    "duration": 8,
    "start_time": "2024-06-06T00:26:09.071Z"
   },
   {
    "duration": 7,
    "start_time": "2024-06-06T00:44:07.161Z"
   },
   {
    "duration": 6,
    "start_time": "2024-06-06T00:44:22.418Z"
   },
   {
    "duration": 7,
    "start_time": "2024-06-06T00:44:30.481Z"
   },
   {
    "duration": 8,
    "start_time": "2024-06-06T00:44:36.530Z"
   },
   {
    "duration": 9,
    "start_time": "2024-06-06T00:45:14.306Z"
   },
   {
    "duration": 7,
    "start_time": "2024-06-06T00:51:00.535Z"
   },
   {
    "duration": 7,
    "start_time": "2024-06-06T00:51:04.822Z"
   }
  ],
  "kernelspec": {
   "display_name": "Python 3 (ipykernel)",
   "language": "python",
   "name": "python3"
  },
  "language_info": {
   "codemirror_mode": {
    "name": "ipython",
    "version": 3
   },
   "file_extension": ".py",
   "mimetype": "text/x-python",
   "name": "python",
   "nbconvert_exporter": "python",
   "pygments_lexer": "ipython3",
   "version": "3.12.2"
  },
  "toc": {
   "base_numbering": 1,
   "nav_menu": {},
   "number_sections": true,
   "sideBar": true,
   "skip_h1_title": true,
   "title_cell": "Table of Contents",
   "title_sidebar": "Contents",
   "toc_cell": false,
   "toc_position": {},
   "toc_section_display": true,
   "toc_window_display": false
  }
 },
 "nbformat": 4,
 "nbformat_minor": 2
}
